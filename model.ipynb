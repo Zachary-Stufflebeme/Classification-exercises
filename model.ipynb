{
 "cells": [
  {
   "cell_type": "code",
   "execution_count": 1,
   "id": "70a78e33",
   "metadata": {},
   "outputs": [],
   "source": [
    "import pandas as pd\n",
    "import numpy as np"
   ]
  },
  {
   "cell_type": "code",
   "execution_count": 2,
   "id": "6edcbc2b",
   "metadata": {},
   "outputs": [],
   "source": [
    "from acquire import get_titanic_data\n",
    "from prepare import prep_titanic\n",
    "import warnings\n",
    "warnings.filterwarnings('ignore')\n",
    "from sklearn.tree import DecisionTreeClassifier,plot_tree,export_text\n",
    "from sklearn.metrics import confusion_matrix, classification_report, accuracy_score\n",
    "from sklearn.ensemble import RandomForestClassifier\n",
    "from sklearn.metrics import classification_report, confusion_matrix, ConfusionMatrixDisplay\n",
    "import matplotlib.pyplot as plt\n",
    "from sklearn.neighbors import KNeighborsClassifier\n",
    "from sklearn.linear_model import LogisticRegression\n"
   ]
  },
  {
   "cell_type": "code",
   "execution_count": 3,
   "id": "82f965d3",
   "metadata": {},
   "outputs": [],
   "source": [
    "df = get_titanic_data()\n",
    "train, validate, test  = prep_titanic(df)"
   ]
  },
  {
   "cell_type": "code",
   "execution_count": null,
   "id": "e7fa6a2f",
   "metadata": {},
   "outputs": [],
   "source": []
  },
  {
   "cell_type": "code",
   "execution_count": null,
   "id": "48929943",
   "metadata": {},
   "outputs": [],
   "source": []
  },
  {
   "cell_type": "code",
   "execution_count": 4,
   "id": "588cb717",
   "metadata": {},
   "outputs": [
    {
     "ename": "NameError",
     "evalue": "name 'dummy_df' is not defined",
     "output_type": "error",
     "traceback": [
      "\u001b[0;31m---------------------------------------------------------------------------\u001b[0m",
      "\u001b[0;31mNameError\u001b[0m                                 Traceback (most recent call last)",
      "Input \u001b[0;32mIn [4]\u001b[0m, in \u001b[0;36m<cell line: 1>\u001b[0;34m()\u001b[0m\n\u001b[0;32m----> 1\u001b[0m \u001b[43mdummy_df\u001b[49m\n",
      "\u001b[0;31mNameError\u001b[0m: name 'dummy_df' is not defined"
     ]
    }
   ],
   "source": [
    "dummy_df"
   ]
  },
  {
   "cell_type": "code",
   "execution_count": 5,
   "id": "a894c1de",
   "metadata": {},
   "outputs": [],
   "source": [
    "drops = ['sex','Unnamed: 0','age']"
   ]
  },
  {
   "cell_type": "code",
   "execution_count": 6,
   "id": "cc8bd1df",
   "metadata": {},
   "outputs": [
    {
     "data": {
      "text/plain": [
       "[None, None, None]"
      ]
     },
     "execution_count": 6,
     "metadata": {},
     "output_type": "execute_result"
    }
   ],
   "source": [
    "[dataset.drop(columns=drops, inplace=True) for dataset in [train, validate, test,]]"
   ]
  },
  {
   "cell_type": "code",
   "execution_count": 7,
   "id": "ff723b51",
   "metadata": {},
   "outputs": [
    {
     "data": {
      "text/plain": [
       "Index(['survived', 'fare', 'alone', 'is_adult', 'sex_female', 'sex_male',\n",
       "       'class_First', 'class_Second', 'class_Third'],\n",
       "      dtype='object')"
      ]
     },
     "execution_count": 7,
     "metadata": {},
     "output_type": "execute_result"
    }
   ],
   "source": [
    "train.columns"
   ]
  },
  {
   "cell_type": "code",
   "execution_count": 8,
   "id": "12e5879d",
   "metadata": {},
   "outputs": [
    {
     "data": {
      "text/plain": [
       "0    254\n",
       "1    172\n",
       "Name: survived, dtype: int64"
      ]
     },
     "execution_count": 8,
     "metadata": {},
     "output_type": "execute_result"
    }
   ],
   "source": [
    "train.survived.value_counts()"
   ]
  },
  {
   "cell_type": "code",
   "execution_count": 9,
   "id": "264005a2",
   "metadata": {},
   "outputs": [],
   "source": [
    "x_train = train.drop(columns = 'survived')\n",
    "y_train = train.survived\n",
    "x_validate = validate.drop(columns = 'survived')\n",
    "y_validate = validate.survived\n",
    "x_test = test.drop(columns = 'survived')\n",
    "y_test = test.survived"
   ]
  },
  {
   "cell_type": "code",
   "execution_count": null,
   "id": "d81453a5",
   "metadata": {},
   "outputs": [],
   "source": []
  },
  {
   "cell_type": "code",
   "execution_count": 10,
   "id": "bae30791",
   "metadata": {},
   "outputs": [],
   "source": [
    "baseline = (y_train == 0).mean()"
   ]
  },
  {
   "cell_type": "code",
   "execution_count": 11,
   "id": "91171af5",
   "metadata": {},
   "outputs": [
    {
     "name": "stdout",
     "output_type": "stream",
     "text": [
      "our baseline accuracy for nonsurvival is: 0.596244131455399\n"
     ]
    }
   ],
   "source": [
    "print('our baseline accuracy for nonsurvival is:', baseline)"
   ]
  },
  {
   "cell_type": "code",
   "execution_count": 12,
   "id": "3e10af71",
   "metadata": {},
   "outputs": [],
   "source": [
    "clf = DecisionTreeClassifier()"
   ]
  },
  {
   "cell_type": "code",
   "execution_count": 13,
   "id": "8791ecc2",
   "metadata": {},
   "outputs": [
    {
     "data": {
      "text/plain": [
       "DecisionTreeClassifier()"
      ]
     },
     "execution_count": 13,
     "metadata": {},
     "output_type": "execute_result"
    }
   ],
   "source": [
    "clf.fit(x_train,y_train)"
   ]
  },
  {
   "cell_type": "code",
   "execution_count": 14,
   "id": "001b3c63",
   "metadata": {},
   "outputs": [
    {
     "data": {
      "text/plain": [
       "0.9342723004694836"
      ]
     },
     "execution_count": 14,
     "metadata": {},
     "output_type": "execute_result"
    }
   ],
   "source": [
    "clf.score(x_train,y_train)"
   ]
  },
  {
   "cell_type": "code",
   "execution_count": 15,
   "id": "b447125a",
   "metadata": {
    "scrolled": true
   },
   "outputs": [
    {
     "data": {
      "text/plain": [
       "array([0, 0, 0, 1, 0, 1, 0, 1, 0, 1, 1, 1, 0, 0, 0, 0, 0, 0, 1, 1, 1, 0,\n",
       "       0, 0, 0, 1, 1, 0, 0, 0, 1, 0, 1, 0, 0, 0, 0, 0, 1, 0, 1, 1, 0, 0,\n",
       "       1, 0, 1, 0, 1, 0, 0, 1, 0, 1, 1, 0, 1, 0, 0, 0, 0, 0, 0, 0, 0, 0,\n",
       "       1, 0, 0, 1, 1, 1, 0, 1, 1, 1, 1, 0, 0, 1, 0, 1, 1, 0, 0, 0, 1, 0,\n",
       "       1, 1, 1, 0, 1, 0, 1, 1, 1, 1, 0, 1, 0, 1, 0, 0, 1, 0, 0, 1, 0, 0,\n",
       "       0, 0, 0, 1, 0, 0, 0, 0, 0, 0, 0, 0, 0, 1, 0, 0, 1, 1, 0, 0, 1, 0,\n",
       "       0, 0, 0, 0, 1, 1, 1, 1, 0, 0, 1, 0, 0, 1, 0, 0, 1, 0, 0, 1, 1, 0,\n",
       "       0, 0, 1, 0, 0, 0, 0, 0, 0, 0, 1, 0, 1, 1, 1, 1, 0, 1, 1, 0, 0, 0,\n",
       "       0, 0, 0, 0, 1, 0, 1, 0, 0, 1, 0, 1, 0, 0, 0, 0, 0, 0, 0, 1, 1, 0,\n",
       "       0, 0, 1, 1, 0, 1, 0, 0, 0, 0, 0, 0, 0, 1, 0, 1, 0, 1, 1, 1, 0, 1,\n",
       "       0, 0, 0, 0, 0, 0, 0, 1, 0, 0, 1, 1, 0, 1, 0, 0, 0, 0, 0, 0, 0, 1,\n",
       "       0, 1, 1, 0, 0, 0, 1, 0, 0, 1, 1, 0, 1, 1, 0, 1, 1, 0, 0, 0, 1, 0,\n",
       "       0, 0, 0, 0, 0, 0, 0, 0, 0, 0, 1, 0, 1, 0, 0, 1, 0, 0, 1, 0, 1, 0,\n",
       "       0, 0, 1, 0, 0, 1, 0, 0, 1, 0, 1, 0, 1, 1, 0, 0, 0, 0, 1, 0, 0, 0,\n",
       "       1, 1, 0, 1, 0, 0, 0, 1, 0, 0, 1, 1, 0, 0, 1, 1, 1, 1, 1, 0, 0, 0,\n",
       "       0, 0, 1, 1, 0, 0, 0, 0, 1, 1, 0, 0, 0, 0, 0, 0, 1, 1, 0, 0, 1, 1,\n",
       "       0, 0, 0, 0, 0, 1, 0, 0, 1, 0, 1, 1, 1, 0, 0, 0, 0, 1, 1, 0, 1, 1,\n",
       "       0, 1, 0, 0, 0, 0, 1, 1, 0, 0, 0, 0, 1, 0, 1, 0, 1, 0, 1, 1, 0, 0,\n",
       "       0, 1, 0, 1, 0, 1, 0, 0, 0, 0, 0, 0, 0, 0, 1, 1, 1, 0, 0, 0, 0, 0,\n",
       "       0, 1, 1, 1, 1, 1, 0, 0])"
      ]
     },
     "execution_count": 15,
     "metadata": {},
     "output_type": "execute_result"
    }
   ],
   "source": [
    "clf.predict(x_train)"
   ]
  },
  {
   "cell_type": "code",
   "execution_count": 16,
   "id": "75807c5a",
   "metadata": {},
   "outputs": [],
   "source": [
    "y_preds = pd.DataFrame({\n",
    " 'y_act': y_train,\n",
    "'baseline': 0,\n",
    "'model_1': clf.predict(x_train)})"
   ]
  },
  {
   "cell_type": "code",
   "execution_count": 17,
   "id": "9b0ae3b7",
   "metadata": {},
   "outputs": [
    {
     "data": {
      "text/html": [
       "<div>\n",
       "<style scoped>\n",
       "    .dataframe tbody tr th:only-of-type {\n",
       "        vertical-align: middle;\n",
       "    }\n",
       "\n",
       "    .dataframe tbody tr th {\n",
       "        vertical-align: top;\n",
       "    }\n",
       "\n",
       "    .dataframe thead th {\n",
       "        text-align: right;\n",
       "    }\n",
       "</style>\n",
       "<table border=\"1\" class=\"dataframe\">\n",
       "  <thead>\n",
       "    <tr style=\"text-align: right;\">\n",
       "      <th></th>\n",
       "      <th>y_act</th>\n",
       "      <th>baseline</th>\n",
       "      <th>model_1</th>\n",
       "    </tr>\n",
       "  </thead>\n",
       "  <tbody>\n",
       "    <tr>\n",
       "      <th>104</th>\n",
       "      <td>0</td>\n",
       "      <td>0</td>\n",
       "      <td>0</td>\n",
       "    </tr>\n",
       "    <tr>\n",
       "      <th>379</th>\n",
       "      <td>0</td>\n",
       "      <td>0</td>\n",
       "      <td>0</td>\n",
       "    </tr>\n",
       "    <tr>\n",
       "      <th>682</th>\n",
       "      <td>0</td>\n",
       "      <td>0</td>\n",
       "      <td>0</td>\n",
       "    </tr>\n",
       "    <tr>\n",
       "      <th>432</th>\n",
       "      <td>1</td>\n",
       "      <td>0</td>\n",
       "      <td>1</td>\n",
       "    </tr>\n",
       "    <tr>\n",
       "      <th>890</th>\n",
       "      <td>0</td>\n",
       "      <td>0</td>\n",
       "      <td>0</td>\n",
       "    </tr>\n",
       "    <tr>\n",
       "      <th>...</th>\n",
       "      <td>...</td>\n",
       "      <td>...</td>\n",
       "      <td>...</td>\n",
       "    </tr>\n",
       "    <tr>\n",
       "      <th>472</th>\n",
       "      <td>1</td>\n",
       "      <td>0</td>\n",
       "      <td>1</td>\n",
       "    </tr>\n",
       "    <tr>\n",
       "      <th>310</th>\n",
       "      <td>1</td>\n",
       "      <td>0</td>\n",
       "      <td>1</td>\n",
       "    </tr>\n",
       "    <tr>\n",
       "      <th>341</th>\n",
       "      <td>1</td>\n",
       "      <td>0</td>\n",
       "      <td>1</td>\n",
       "    </tr>\n",
       "    <tr>\n",
       "      <th>72</th>\n",
       "      <td>0</td>\n",
       "      <td>0</td>\n",
       "      <td>0</td>\n",
       "    </tr>\n",
       "    <tr>\n",
       "      <th>749</th>\n",
       "      <td>0</td>\n",
       "      <td>0</td>\n",
       "      <td>0</td>\n",
       "    </tr>\n",
       "  </tbody>\n",
       "</table>\n",
       "<p>426 rows × 3 columns</p>\n",
       "</div>"
      ],
      "text/plain": [
       "     y_act  baseline  model_1\n",
       "104      0         0        0\n",
       "379      0         0        0\n",
       "682      0         0        0\n",
       "432      1         0        1\n",
       "890      0         0        0\n",
       "..     ...       ...      ...\n",
       "472      1         0        1\n",
       "310      1         0        1\n",
       "341      1         0        1\n",
       "72       0         0        0\n",
       "749      0         0        0\n",
       "\n",
       "[426 rows x 3 columns]"
      ]
     },
     "execution_count": 17,
     "metadata": {},
     "output_type": "execute_result"
    }
   ],
   "source": [
    "y_preds"
   ]
  },
  {
   "cell_type": "code",
   "execution_count": 18,
   "id": "e8813c33",
   "metadata": {},
   "outputs": [
    {
     "data": {
      "text/plain": [
       "0.9342723004694836"
      ]
     },
     "execution_count": 18,
     "metadata": {},
     "output_type": "execute_result"
    }
   ],
   "source": [
    "acc = clf.score(x_train, y_train)\n",
    "accuracy_score(y_preds.y_act, y_preds.model_1)"
   ]
  },
  {
   "cell_type": "code",
   "execution_count": 19,
   "id": "5e465028",
   "metadata": {},
   "outputs": [
    {
     "data": {
      "text/plain": [
       "0.9342723004694836"
      ]
     },
     "execution_count": 19,
     "metadata": {},
     "output_type": "execute_result"
    }
   ],
   "source": [
    "acc"
   ]
  },
  {
   "cell_type": "code",
   "execution_count": 20,
   "id": "2d47af3b",
   "metadata": {},
   "outputs": [
    {
     "data": {
      "text/html": [
       "<div>\n",
       "<style scoped>\n",
       "    .dataframe tbody tr th:only-of-type {\n",
       "        vertical-align: middle;\n",
       "    }\n",
       "\n",
       "    .dataframe tbody tr th {\n",
       "        vertical-align: top;\n",
       "    }\n",
       "\n",
       "    .dataframe thead th {\n",
       "        text-align: right;\n",
       "    }\n",
       "</style>\n",
       "<table border=\"1\" class=\"dataframe\">\n",
       "  <thead>\n",
       "    <tr style=\"text-align: right;\">\n",
       "      <th></th>\n",
       "      <th>0</th>\n",
       "      <th>1</th>\n",
       "      <th>accuracy</th>\n",
       "      <th>macro avg</th>\n",
       "      <th>weighted avg</th>\n",
       "    </tr>\n",
       "  </thead>\n",
       "  <tbody>\n",
       "    <tr>\n",
       "      <th>precision</th>\n",
       "      <td>0.921642</td>\n",
       "      <td>0.955696</td>\n",
       "      <td>0.934272</td>\n",
       "      <td>0.938669</td>\n",
       "      <td>0.935391</td>\n",
       "    </tr>\n",
       "    <tr>\n",
       "      <th>recall</th>\n",
       "      <td>0.972441</td>\n",
       "      <td>0.877907</td>\n",
       "      <td>0.934272</td>\n",
       "      <td>0.925174</td>\n",
       "      <td>0.934272</td>\n",
       "    </tr>\n",
       "    <tr>\n",
       "      <th>f1-score</th>\n",
       "      <td>0.946360</td>\n",
       "      <td>0.915152</td>\n",
       "      <td>0.934272</td>\n",
       "      <td>0.930756</td>\n",
       "      <td>0.933759</td>\n",
       "    </tr>\n",
       "    <tr>\n",
       "      <th>support</th>\n",
       "      <td>254.000000</td>\n",
       "      <td>172.000000</td>\n",
       "      <td>0.934272</td>\n",
       "      <td>426.000000</td>\n",
       "      <td>426.000000</td>\n",
       "    </tr>\n",
       "  </tbody>\n",
       "</table>\n",
       "</div>"
      ],
      "text/plain": [
       "                    0           1  accuracy   macro avg  weighted avg\n",
       "precision    0.921642    0.955696  0.934272    0.938669      0.935391\n",
       "recall       0.972441    0.877907  0.934272    0.925174      0.934272\n",
       "f1-score     0.946360    0.915152  0.934272    0.930756      0.933759\n",
       "support    254.000000  172.000000  0.934272  426.000000    426.000000"
      ]
     },
     "execution_count": 20,
     "metadata": {},
     "output_type": "execute_result"
    }
   ],
   "source": [
    "pd.DataFrame(classification_report(y_preds.y_act, y_preds.model_1, output_dict=True))"
   ]
  },
  {
   "cell_type": "code",
   "execution_count": 21,
   "id": "56321d4f",
   "metadata": {},
   "outputs": [],
   "source": [
    "conf = confusion_matrix(y_preds.y_act, y_preds.model_1)"
   ]
  },
  {
   "cell_type": "code",
   "execution_count": 22,
   "id": "976f59c4",
   "metadata": {},
   "outputs": [
    {
     "data": {
      "text/plain": [
       "array([[247,   7],\n",
       "       [ 21, 151]])"
      ]
     },
     "execution_count": 22,
     "metadata": {},
     "output_type": "execute_result"
    }
   ],
   "source": [
    "conf"
   ]
  },
  {
   "cell_type": "code",
   "execution_count": 23,
   "id": "007d6d59",
   "metadata": {},
   "outputs": [],
   "source": [
    "rubric_df = pd.DataFrame({\n",
    "    'pred_death': ['True Negative', 'False Negative'],\n",
    "    'pred_survive':['False Positive','True Positive']\n",
    "    }, index=['actual_death', 'actual_survive'])"
   ]
  },
  {
   "cell_type": "code",
   "execution_count": 24,
   "id": "5fcd6af3",
   "metadata": {},
   "outputs": [
    {
     "data": {
      "text/html": [
       "<div>\n",
       "<style scoped>\n",
       "    .dataframe tbody tr th:only-of-type {\n",
       "        vertical-align: middle;\n",
       "    }\n",
       "\n",
       "    .dataframe tbody tr th {\n",
       "        vertical-align: top;\n",
       "    }\n",
       "\n",
       "    .dataframe thead th {\n",
       "        text-align: right;\n",
       "    }\n",
       "</style>\n",
       "<table border=\"1\" class=\"dataframe\">\n",
       "  <thead>\n",
       "    <tr style=\"text-align: right;\">\n",
       "      <th></th>\n",
       "      <th>pred_death</th>\n",
       "      <th>pred_survive</th>\n",
       "    </tr>\n",
       "  </thead>\n",
       "  <tbody>\n",
       "    <tr>\n",
       "      <th>actual_death</th>\n",
       "      <td>True Negative</td>\n",
       "      <td>False Positive</td>\n",
       "    </tr>\n",
       "    <tr>\n",
       "      <th>actual_survive</th>\n",
       "      <td>False Negative</td>\n",
       "      <td>True Positive</td>\n",
       "    </tr>\n",
       "  </tbody>\n",
       "</table>\n",
       "</div>"
      ],
      "text/plain": [
       "                    pred_death    pred_survive\n",
       "actual_death     True Negative  False Positive\n",
       "actual_survive  False Negative   True Positive"
      ]
     },
     "execution_count": 24,
     "metadata": {},
     "output_type": "execute_result"
    }
   ],
   "source": [
    "rubric_df"
   ]
  },
  {
   "cell_type": "code",
   "execution_count": 25,
   "id": "2350cb68",
   "metadata": {},
   "outputs": [
    {
     "data": {
      "text/html": [
       "<div>\n",
       "<style scoped>\n",
       "    .dataframe tbody tr th:only-of-type {\n",
       "        vertical-align: middle;\n",
       "    }\n",
       "\n",
       "    .dataframe tbody tr th {\n",
       "        vertical-align: top;\n",
       "    }\n",
       "\n",
       "    .dataframe thead th {\n",
       "        text-align: right;\n",
       "    }\n",
       "</style>\n",
       "<table border=\"1\" class=\"dataframe\">\n",
       "  <thead>\n",
       "    <tr style=\"text-align: right;\">\n",
       "      <th></th>\n",
       "      <th>pred_death</th>\n",
       "      <th>pred_survive</th>\n",
       "    </tr>\n",
       "  </thead>\n",
       "  <tbody>\n",
       "    <tr>\n",
       "      <th>actual_death</th>\n",
       "      <td>True Negative: 247</td>\n",
       "      <td>False Positive: 7</td>\n",
       "    </tr>\n",
       "    <tr>\n",
       "      <th>actual_survive</th>\n",
       "      <td>False Negative: 21</td>\n",
       "      <td>True Positive: 151</td>\n",
       "    </tr>\n",
       "  </tbody>\n",
       "</table>\n",
       "</div>"
      ],
      "text/plain": [
       "                        pred_death        pred_survive\n",
       "actual_death    True Negative: 247   False Positive: 7\n",
       "actual_survive  False Negative: 21  True Positive: 151"
      ]
     },
     "execution_count": 25,
     "metadata": {},
     "output_type": "execute_result"
    }
   ],
   "source": [
    "rubric_df + ': ' + conf.astype(str)"
   ]
  },
  {
   "cell_type": "code",
   "execution_count": 26,
   "id": "5f48a174",
   "metadata": {},
   "outputs": [
    {
     "data": {
      "text/plain": [
       "(247, 7, 21, 151)"
      ]
     },
     "execution_count": 26,
     "metadata": {},
     "output_type": "execute_result"
    }
   ],
   "source": [
    "TN = conf[0,0]\n",
    "FP = conf[0,1]\n",
    "FN = conf[1,0]\n",
    "TP = conf[1,1]\n",
    "TN, FP, FN, TP"
   ]
  },
  {
   "cell_type": "code",
   "execution_count": null,
   "id": "4f5a4ad4",
   "metadata": {},
   "outputs": [],
   "source": [
    "clf2 = DecisionTreeClassifier(max_depth=4)"
   ]
  },
  {
   "cell_type": "code",
   "execution_count": null,
   "id": "87095196",
   "metadata": {},
   "outputs": [],
   "source": [
    "clf2.fit(x_train,y_train)"
   ]
  },
  {
   "cell_type": "code",
   "execution_count": null,
   "id": "6fd4831a",
   "metadata": {},
   "outputs": [],
   "source": [
    "y_preds['model2'] = clf2.predict(x_train)"
   ]
  },
  {
   "cell_type": "code",
   "execution_count": null,
   "id": "ef766fe1",
   "metadata": {},
   "outputs": [],
   "source": [
    "clf2.score(x_train, y_train)"
   ]
  },
  {
   "cell_type": "code",
   "execution_count": null,
   "id": "d93de3df",
   "metadata": {},
   "outputs": [],
   "source": [
    "#################################################################################################################"
   ]
  },
  {
   "cell_type": "code",
   "execution_count": null,
   "id": "d29ac1d3",
   "metadata": {},
   "outputs": [],
   "source": [
    "#                                  Decision Forest\n"
   ]
  },
  {
   "cell_type": "code",
   "execution_count": null,
   "id": "43719def",
   "metadata": {},
   "outputs": [],
   "source": [
    "x_train.head()"
   ]
  },
  {
   "cell_type": "code",
   "execution_count": null,
   "id": "39ef3b1a",
   "metadata": {},
   "outputs": [],
   "source": [
    "rf = RandomForestClassifier(min_samples_leaf = 1,max_depth = 10, random_state = 123)"
   ]
  },
  {
   "cell_type": "code",
   "execution_count": null,
   "id": "a95e156a",
   "metadata": {},
   "outputs": [],
   "source": [
    "rf.fit(x_train,y_train)"
   ]
  },
  {
   "cell_type": "code",
   "execution_count": null,
   "id": "d48692bb",
   "metadata": {},
   "outputs": [],
   "source": [
    "y_pred = rf.predict(x_train)"
   ]
  },
  {
   "cell_type": "code",
   "execution_count": null,
   "id": "500f96e8",
   "metadata": {},
   "outputs": [],
   "source": [
    "y_pred_proba = rf.predict_proba(x_train)"
   ]
  },
  {
   "cell_type": "code",
   "execution_count": null,
   "id": "ae336004",
   "metadata": {},
   "outputs": [],
   "source": [
    "y_pred_proba"
   ]
  },
  {
   "cell_type": "code",
   "execution_count": null,
   "id": "1623f9e0",
   "metadata": {},
   "outputs": [],
   "source": [
    "print('Accuracy of random forest classifier on training set: {:.2f}'\n",
    "     .format(rf.score(x_train, y_train)))"
   ]
  },
  {
   "cell_type": "code",
   "execution_count": null,
   "id": "796a898f",
   "metadata": {},
   "outputs": [],
   "source": [
    "conf = confusion_matrix(y_train,y_pred)\n",
    "conf"
   ]
  },
  {
   "cell_type": "code",
   "execution_count": null,
   "id": "dbb23d9f",
   "metadata": {},
   "outputs": [],
   "source": [
    "disp = ConfusionMatrixDisplay(confusion_matrix=conf, display_labels=rf.classes_)\n",
    "\n",
    "disp.plot()\n",
    "plt.show()\n"
   ]
  },
  {
   "cell_type": "code",
   "execution_count": null,
   "id": "f3279ffd",
   "metadata": {},
   "outputs": [],
   "source": [
    "print(classification_report(y_train,y_pred))"
   ]
  },
  {
   "cell_type": "code",
   "execution_count": null,
   "id": "e7a767f0",
   "metadata": {},
   "outputs": [],
   "source": [
    "rf2 = RandomForestClassifier(min_samples_leaf = 4,max_depth = 8, random_state = 123)"
   ]
  },
  {
   "cell_type": "code",
   "execution_count": null,
   "id": "37c3316e",
   "metadata": {},
   "outputs": [],
   "source": [
    "rf2.fit(x_train,y_train)"
   ]
  },
  {
   "cell_type": "code",
   "execution_count": null,
   "id": "c95fbb7f",
   "metadata": {},
   "outputs": [],
   "source": [
    "y_pred2 = rf2.predict(x_train)"
   ]
  },
  {
   "cell_type": "code",
   "execution_count": null,
   "id": "0add3d1b",
   "metadata": {},
   "outputs": [],
   "source": []
  },
  {
   "cell_type": "code",
   "execution_count": null,
   "id": "299fb1e6",
   "metadata": {},
   "outputs": [],
   "source": [
    "y_pred_proba2 = rf.predict_proba(x_train)"
   ]
  },
  {
   "cell_type": "code",
   "execution_count": null,
   "id": "d13558fa",
   "metadata": {},
   "outputs": [],
   "source": [
    "print('Accuracy of random forest classifier on training set: {:.2f}'\n",
    "     .format(rf2.score(x_train, y_train)))"
   ]
  },
  {
   "cell_type": "code",
   "execution_count": null,
   "id": "4181eb17",
   "metadata": {},
   "outputs": [],
   "source": [
    "disp = ConfusionMatrixDisplay(confusion_matrix=conf, display_labels=rf2.classes_)\n",
    "\n",
    "disp.plot()\n",
    "plt.show()\n",
    "\n"
   ]
  },
  {
   "cell_type": "code",
   "execution_count": null,
   "id": "aaa78b63",
   "metadata": {},
   "outputs": [],
   "source": [
    "TP = 179\n",
    "TN = 26\n",
    "FP = 6\n",
    "FN = 323"
   ]
  },
  {
   "cell_type": "code",
   "execution_count": null,
   "id": "d34cb4ab",
   "metadata": {},
   "outputs": [],
   "source": [
    "print(classification_report(y_train, y_pred2))"
   ]
  },
  {
   "cell_type": "code",
   "execution_count": null,
   "id": "e5c24689",
   "metadata": {},
   "outputs": [],
   "source": [
    "rf3 = RandomForestClassifier(min_samples_leaf = 6,max_depth = 6, random_state = 123)"
   ]
  },
  {
   "cell_type": "code",
   "execution_count": null,
   "id": "3ed78aac",
   "metadata": {},
   "outputs": [],
   "source": [
    "rf3.fit(x_train,y_train)"
   ]
  },
  {
   "cell_type": "code",
   "execution_count": null,
   "id": "d2743fec",
   "metadata": {},
   "outputs": [],
   "source": [
    "y_pred3 = rf3.predict(x_train)"
   ]
  },
  {
   "cell_type": "code",
   "execution_count": null,
   "id": "6f7256e8",
   "metadata": {},
   "outputs": [],
   "source": [
    "print('Accuracy of random forest classifier on training set: {:.2f}'\n",
    "     .format(rf3.score(x_train, y_train)))"
   ]
  },
  {
   "cell_type": "code",
   "execution_count": null,
   "id": "e1ece8ec",
   "metadata": {},
   "outputs": [],
   "source": [
    "print(classification_report(y_train, y_pred3))"
   ]
  },
  {
   "cell_type": "code",
   "execution_count": null,
   "id": "376c3f73",
   "metadata": {},
   "outputs": [],
   "source": []
  },
  {
   "cell_type": "code",
   "execution_count": null,
   "id": "acea77bd",
   "metadata": {},
   "outputs": [],
   "source": [
    "##############################TRAIN##############################################################"
   ]
  },
  {
   "cell_type": "code",
   "execution_count": null,
   "id": "56e1f34e",
   "metadata": {},
   "outputs": [],
   "source": [
    "#first forest (min =1 max =10)\n",
    "print('Accuracy of random forest classifier on validate set: {:.2f}'\n",
    "     .format(rf.score(x_train, y_train)))"
   ]
  },
  {
   "cell_type": "code",
   "execution_count": null,
   "id": "3be3cd28",
   "metadata": {},
   "outputs": [],
   "source": [
    "#second forest (min =4 max = 8)\n",
    "print('Accuracy of random forest classifier on validate set: {:.2f}'\n",
    "     .format(rf2.score(x_train, y_train)))"
   ]
  },
  {
   "cell_type": "code",
   "execution_count": null,
   "id": "b81f85ed",
   "metadata": {},
   "outputs": [],
   "source": [
    "#second forest (min =6 max = 6)\n",
    "print('Accuracy of random forest classifier on validate set: {:.2f}'\n",
    "     .format(rf3.score(x_train, y_train)))"
   ]
  },
  {
   "cell_type": "code",
   "execution_count": null,
   "id": "061adbb8",
   "metadata": {},
   "outputs": [],
   "source": [
    "##############################VALIDATE#################################################"
   ]
  },
  {
   "cell_type": "code",
   "execution_count": null,
   "id": "47f0e70f",
   "metadata": {},
   "outputs": [],
   "source": [
    "#first forest (min =1 max =10)\n",
    "print('Accuracy of random forest classifier on validate set: {:.2f}'\n",
    "     .format(rf.score(x_validate, y_validate)))"
   ]
  },
  {
   "cell_type": "code",
   "execution_count": null,
   "id": "0be051cf",
   "metadata": {},
   "outputs": [],
   "source": [
    "#second forest (min =4 max = 8)\n",
    "print('Accuracy of random forest classifier on validate set: {:.2f}'\n",
    "     .format(rf2.score(x_validate, y_validate)))"
   ]
  },
  {
   "cell_type": "code",
   "execution_count": null,
   "id": "8a301398",
   "metadata": {},
   "outputs": [],
   "source": [
    "#THird forest (min =6 max = 6)\n",
    "print('Accuracy of random forest classifier on validate set: {:.2f}'\n",
    "     .format(rf3.score(x_validate, y_validate)))"
   ]
  },
  {
   "cell_type": "code",
   "execution_count": null,
   "id": "668d5a07",
   "metadata": {},
   "outputs": [],
   "source": [
    "###########################CLASSIFICATION REPORTS#####################################################"
   ]
  },
  {
   "cell_type": "code",
   "execution_count": null,
   "id": "d3d2c017",
   "metadata": {},
   "outputs": [],
   "source": [
    "#first forest (min =1 max =10)\n",
    "print(classification_report(y_train, y_pred))"
   ]
  },
  {
   "cell_type": "code",
   "execution_count": null,
   "id": "fb3130c6",
   "metadata": {},
   "outputs": [],
   "source": [
    "#second forest (min =4 max = 8)\n",
    "print(classification_report(y_train,y_pred2))"
   ]
  },
  {
   "cell_type": "code",
   "execution_count": null,
   "id": "f9f4786c",
   "metadata": {},
   "outputs": [],
   "source": [
    "#Third Forest (min = 6, max = 6)\n",
    "print(classification_report(y_train,y_pred3))"
   ]
  },
  {
   "cell_type": "code",
   "execution_count": null,
   "id": "3f79017f",
   "metadata": {},
   "outputs": [],
   "source": [
    "#Second forest is the most consistant"
   ]
  },
  {
   "cell_type": "code",
   "execution_count": null,
   "id": "2aa5cafd",
   "metadata": {},
   "outputs": [],
   "source": [
    "#-------------------------------------KNN exercises----------------------------------------------------------------"
   ]
  },
  {
   "cell_type": "code",
   "execution_count": null,
   "id": "127e2a25",
   "metadata": {},
   "outputs": [],
   "source": [
    "knn = KNeighborsClassifier(n_neighbors = 8)"
   ]
  },
  {
   "cell_type": "code",
   "execution_count": null,
   "id": "dad90efe",
   "metadata": {},
   "outputs": [],
   "source": [
    "knn.fit(x_train,y_train)"
   ]
  },
  {
   "cell_type": "code",
   "execution_count": null,
   "id": "2ea32def",
   "metadata": {},
   "outputs": [],
   "source": [
    "y_pred = knn.predict(x_train)"
   ]
  },
  {
   "cell_type": "code",
   "execution_count": null,
   "id": "7052a2f5",
   "metadata": {},
   "outputs": [],
   "source": [
    "train.survived.unique()"
   ]
  },
  {
   "cell_type": "code",
   "execution_count": null,
   "id": "f100e8d2",
   "metadata": {},
   "outputs": [],
   "source": [
    "confusion_matrix(y_train, y_pred)"
   ]
  },
  {
   "cell_type": "code",
   "execution_count": null,
   "id": "c1c803ca",
   "metadata": {},
   "outputs": [],
   "source": [
    "pd.crosstab(y_train, y_pred)"
   ]
  },
  {
   "cell_type": "code",
   "execution_count": null,
   "id": "e8e28617",
   "metadata": {},
   "outputs": [],
   "source": [
    "print(classification_report(y_train, y_pred))"
   ]
  },
  {
   "cell_type": "code",
   "execution_count": null,
   "id": "ae4e6365",
   "metadata": {},
   "outputs": [],
   "source": [
    "tn, fp, fn, tp = confusion_matrix(y_train, y_pred).ravel()\n",
    "all = tn + fp + fn + tp"
   ]
  },
  {
   "cell_type": "code",
   "execution_count": null,
   "id": "9d5e440b",
   "metadata": {},
   "outputs": [],
   "source": []
  },
  {
   "cell_type": "code",
   "execution_count": null,
   "id": "b193c292",
   "metadata": {},
   "outputs": [],
   "source": []
  },
  {
   "cell_type": "code",
   "execution_count": null,
   "id": "661500ad",
   "metadata": {},
   "outputs": [],
   "source": []
  },
  {
   "cell_type": "code",
   "execution_count": null,
   "id": "ae18c76f",
   "metadata": {},
   "outputs": [],
   "source": [
    "for i in range(2,21):\n",
    "    knn = KNeighborsClassifier(n_neighbors = i)\n",
    "    knn.fit(x_train,y_train)\n",
    "    y_pred = knn.predict(x_train)\n",
    "    print('k used is: ', i)\n",
    "    print(classification_report(y_train, y_pred))\n",
    "    "
   ]
  },
  {
   "cell_type": "code",
   "execution_count": null,
   "id": "a76f4904",
   "metadata": {},
   "outputs": [],
   "source": [
    "#=================================Logistic Regression============================================================"
   ]
  },
  {
   "cell_type": "code",
   "execution_count": null,
   "id": "4f1dc222",
   "metadata": {},
   "outputs": [],
   "source": []
  },
  {
   "cell_type": "code",
   "execution_count": 27,
   "id": "c96b02a8",
   "metadata": {},
   "outputs": [
    {
     "data": {
      "text/html": [
       "<div>\n",
       "<style scoped>\n",
       "    .dataframe tbody tr th:only-of-type {\n",
       "        vertical-align: middle;\n",
       "    }\n",
       "\n",
       "    .dataframe tbody tr th {\n",
       "        vertical-align: top;\n",
       "    }\n",
       "\n",
       "    .dataframe thead th {\n",
       "        text-align: right;\n",
       "    }\n",
       "</style>\n",
       "<table border=\"1\" class=\"dataframe\">\n",
       "  <thead>\n",
       "    <tr style=\"text-align: right;\">\n",
       "      <th></th>\n",
       "      <th>fare</th>\n",
       "      <th>alone</th>\n",
       "      <th>is_adult</th>\n",
       "      <th>sex_female</th>\n",
       "      <th>sex_male</th>\n",
       "      <th>class_First</th>\n",
       "      <th>class_Second</th>\n",
       "      <th>class_Third</th>\n",
       "    </tr>\n",
       "  </thead>\n",
       "  <tbody>\n",
       "    <tr>\n",
       "      <th>104</th>\n",
       "      <td>7.9250</td>\n",
       "      <td>0</td>\n",
       "      <td>1</td>\n",
       "      <td>0</td>\n",
       "      <td>1</td>\n",
       "      <td>0</td>\n",
       "      <td>0</td>\n",
       "      <td>1</td>\n",
       "    </tr>\n",
       "    <tr>\n",
       "      <th>379</th>\n",
       "      <td>7.7750</td>\n",
       "      <td>1</td>\n",
       "      <td>1</td>\n",
       "      <td>0</td>\n",
       "      <td>1</td>\n",
       "      <td>0</td>\n",
       "      <td>0</td>\n",
       "      <td>1</td>\n",
       "    </tr>\n",
       "    <tr>\n",
       "      <th>682</th>\n",
       "      <td>9.2250</td>\n",
       "      <td>1</td>\n",
       "      <td>1</td>\n",
       "      <td>0</td>\n",
       "      <td>1</td>\n",
       "      <td>0</td>\n",
       "      <td>0</td>\n",
       "      <td>1</td>\n",
       "    </tr>\n",
       "    <tr>\n",
       "      <th>432</th>\n",
       "      <td>26.0000</td>\n",
       "      <td>0</td>\n",
       "      <td>1</td>\n",
       "      <td>1</td>\n",
       "      <td>0</td>\n",
       "      <td>0</td>\n",
       "      <td>1</td>\n",
       "      <td>0</td>\n",
       "    </tr>\n",
       "    <tr>\n",
       "      <th>890</th>\n",
       "      <td>7.7500</td>\n",
       "      <td>1</td>\n",
       "      <td>1</td>\n",
       "      <td>0</td>\n",
       "      <td>1</td>\n",
       "      <td>0</td>\n",
       "      <td>0</td>\n",
       "      <td>1</td>\n",
       "    </tr>\n",
       "    <tr>\n",
       "      <th>...</th>\n",
       "      <td>...</td>\n",
       "      <td>...</td>\n",
       "      <td>...</td>\n",
       "      <td>...</td>\n",
       "      <td>...</td>\n",
       "      <td>...</td>\n",
       "      <td>...</td>\n",
       "      <td>...</td>\n",
       "    </tr>\n",
       "    <tr>\n",
       "      <th>472</th>\n",
       "      <td>27.7500</td>\n",
       "      <td>0</td>\n",
       "      <td>1</td>\n",
       "      <td>1</td>\n",
       "      <td>0</td>\n",
       "      <td>0</td>\n",
       "      <td>1</td>\n",
       "      <td>0</td>\n",
       "    </tr>\n",
       "    <tr>\n",
       "      <th>310</th>\n",
       "      <td>83.1583</td>\n",
       "      <td>1</td>\n",
       "      <td>1</td>\n",
       "      <td>1</td>\n",
       "      <td>0</td>\n",
       "      <td>1</td>\n",
       "      <td>0</td>\n",
       "      <td>0</td>\n",
       "    </tr>\n",
       "    <tr>\n",
       "      <th>341</th>\n",
       "      <td>263.0000</td>\n",
       "      <td>0</td>\n",
       "      <td>1</td>\n",
       "      <td>1</td>\n",
       "      <td>0</td>\n",
       "      <td>1</td>\n",
       "      <td>0</td>\n",
       "      <td>0</td>\n",
       "    </tr>\n",
       "    <tr>\n",
       "      <th>72</th>\n",
       "      <td>73.5000</td>\n",
       "      <td>1</td>\n",
       "      <td>1</td>\n",
       "      <td>0</td>\n",
       "      <td>1</td>\n",
       "      <td>0</td>\n",
       "      <td>1</td>\n",
       "      <td>0</td>\n",
       "    </tr>\n",
       "    <tr>\n",
       "      <th>749</th>\n",
       "      <td>7.7500</td>\n",
       "      <td>1</td>\n",
       "      <td>1</td>\n",
       "      <td>0</td>\n",
       "      <td>1</td>\n",
       "      <td>0</td>\n",
       "      <td>0</td>\n",
       "      <td>1</td>\n",
       "    </tr>\n",
       "  </tbody>\n",
       "</table>\n",
       "<p>426 rows × 8 columns</p>\n",
       "</div>"
      ],
      "text/plain": [
       "         fare  alone  is_adult  sex_female  sex_male  class_First  \\\n",
       "104    7.9250      0         1           0         1            0   \n",
       "379    7.7750      1         1           0         1            0   \n",
       "682    9.2250      1         1           0         1            0   \n",
       "432   26.0000      0         1           1         0            0   \n",
       "890    7.7500      1         1           0         1            0   \n",
       "..        ...    ...       ...         ...       ...          ...   \n",
       "472   27.7500      0         1           1         0            0   \n",
       "310   83.1583      1         1           1         0            1   \n",
       "341  263.0000      0         1           1         0            1   \n",
       "72    73.5000      1         1           0         1            0   \n",
       "749    7.7500      1         1           0         1            0   \n",
       "\n",
       "     class_Second  class_Third  \n",
       "104             0            1  \n",
       "379             0            1  \n",
       "682             0            1  \n",
       "432             1            0  \n",
       "890             0            1  \n",
       "..            ...          ...  \n",
       "472             1            0  \n",
       "310             0            0  \n",
       "341             0            0  \n",
       "72              1            0  \n",
       "749             0            1  \n",
       "\n",
       "[426 rows x 8 columns]"
      ]
     },
     "execution_count": 27,
     "metadata": {},
     "output_type": "execute_result"
    }
   ],
   "source": [
    "x_train"
   ]
  },
  {
   "cell_type": "code",
   "execution_count": 28,
   "id": "22a37b22",
   "metadata": {},
   "outputs": [],
   "source": [
    "logreg = LogisticRegression()\n"
   ]
  },
  {
   "cell_type": "code",
   "execution_count": 46,
   "id": "59e6aa96",
   "metadata": {},
   "outputs": [],
   "source": [
    "logreg2 = LogisticRegression(C = .3)"
   ]
  },
  {
   "cell_type": "raw",
   "id": "d6d1b2b8",
   "metadata": {},
   "source": [
    "logreg2 = LogisticRegression(c = .3)"
   ]
  },
  {
   "cell_type": "code",
   "execution_count": 47,
   "id": "408d33c0",
   "metadata": {},
   "outputs": [
    {
     "data": {
      "text/plain": [
       "LogisticRegression(C=0.3)"
      ]
     },
     "execution_count": 47,
     "metadata": {},
     "output_type": "execute_result"
    }
   ],
   "source": [
    "logreg.fit(x_train,y_train)\n",
    "logreg2.fit(x_train,y_train)\n"
   ]
  },
  {
   "cell_type": "code",
   "execution_count": 48,
   "id": "797d55c1",
   "metadata": {},
   "outputs": [],
   "source": [
    "y_pred = logreg.predict(x_train)\n",
    "y_pred2 = logreg2.predict(x_train)"
   ]
  },
  {
   "cell_type": "code",
   "execution_count": 53,
   "id": "5ee346cb",
   "metadata": {},
   "outputs": [
    {
     "data": {
      "text/plain": [
       "array([0, 0, 0, 1, 0])"
      ]
     },
     "execution_count": 53,
     "metadata": {},
     "output_type": "execute_result"
    }
   ],
   "source": [
    "\n",
    "y_pred[:5]"
   ]
  },
  {
   "cell_type": "code",
   "execution_count": 33,
   "id": "ede5c33c",
   "metadata": {},
   "outputs": [
    {
     "data": {
      "text/plain": [
       "array([0, 1])"
      ]
     },
     "execution_count": 33,
     "metadata": {},
     "output_type": "execute_result"
    }
   ],
   "source": [
    "logreg.classes_"
   ]
  },
  {
   "cell_type": "code",
   "execution_count": 55,
   "id": "fe941180",
   "metadata": {},
   "outputs": [],
   "source": [
    "y_pred_proba = logreg.predict_proba(x_train)\n",
    "y_pred_proba = pd.DataFrame(y_pred_proba, columns = ['died', 'survived'])\n",
    "y_pred_proba2 = logreg2.predict_proba(x_train)\n",
    "y_pred_proba2 = pd.DataFrame(y_pred_proba2, columns = ['died','survived'])"
   ]
  },
  {
   "cell_type": "code",
   "execution_count": 36,
   "id": "8962a83f",
   "metadata": {},
   "outputs": [
    {
     "data": {
      "text/html": [
       "<div>\n",
       "<style scoped>\n",
       "    .dataframe tbody tr th:only-of-type {\n",
       "        vertical-align: middle;\n",
       "    }\n",
       "\n",
       "    .dataframe tbody tr th {\n",
       "        vertical-align: top;\n",
       "    }\n",
       "\n",
       "    .dataframe thead th {\n",
       "        text-align: right;\n",
       "    }\n",
       "</style>\n",
       "<table border=\"1\" class=\"dataframe\">\n",
       "  <thead>\n",
       "    <tr style=\"text-align: right;\">\n",
       "      <th></th>\n",
       "      <th>died</th>\n",
       "      <th>survived</th>\n",
       "    </tr>\n",
       "  </thead>\n",
       "  <tbody>\n",
       "    <tr>\n",
       "      <th>0</th>\n",
       "      <td>0.938321</td>\n",
       "      <td>0.061679</td>\n",
       "    </tr>\n",
       "    <tr>\n",
       "      <th>1</th>\n",
       "      <td>0.937366</td>\n",
       "      <td>0.062634</td>\n",
       "    </tr>\n",
       "    <tr>\n",
       "      <th>2</th>\n",
       "      <td>0.937112</td>\n",
       "      <td>0.062888</td>\n",
       "    </tr>\n",
       "    <tr>\n",
       "      <th>3</th>\n",
       "      <td>0.202251</td>\n",
       "      <td>0.797749</td>\n",
       "    </tr>\n",
       "    <tr>\n",
       "      <th>4</th>\n",
       "      <td>0.937370</td>\n",
       "      <td>0.062630</td>\n",
       "    </tr>\n",
       "    <tr>\n",
       "      <th>...</th>\n",
       "      <td>...</td>\n",
       "      <td>...</td>\n",
       "    </tr>\n",
       "    <tr>\n",
       "      <th>421</th>\n",
       "      <td>0.201414</td>\n",
       "      <td>0.798586</td>\n",
       "    </tr>\n",
       "    <tr>\n",
       "      <th>422</th>\n",
       "      <td>0.094796</td>\n",
       "      <td>0.905204</td>\n",
       "    </tr>\n",
       "    <tr>\n",
       "      <th>423</th>\n",
       "      <td>0.058778</td>\n",
       "      <td>0.941222</td>\n",
       "    </tr>\n",
       "    <tr>\n",
       "      <th>424</th>\n",
       "      <td>0.714485</td>\n",
       "      <td>0.285515</td>\n",
       "    </tr>\n",
       "    <tr>\n",
       "      <th>425</th>\n",
       "      <td>0.937370</td>\n",
       "      <td>0.062630</td>\n",
       "    </tr>\n",
       "  </tbody>\n",
       "</table>\n",
       "<p>426 rows × 2 columns</p>\n",
       "</div>"
      ],
      "text/plain": [
       "         died  survived\n",
       "0    0.938321  0.061679\n",
       "1    0.937366  0.062634\n",
       "2    0.937112  0.062888\n",
       "3    0.202251  0.797749\n",
       "4    0.937370  0.062630\n",
       "..        ...       ...\n",
       "421  0.201414  0.798586\n",
       "422  0.094796  0.905204\n",
       "423  0.058778  0.941222\n",
       "424  0.714485  0.285515\n",
       "425  0.937370  0.062630\n",
       "\n",
       "[426 rows x 2 columns]"
      ]
     },
     "execution_count": 36,
     "metadata": {},
     "output_type": "execute_result"
    }
   ],
   "source": [
    "#model 1\n",
    "y_pred_proba"
   ]
  },
  {
   "cell_type": "code",
   "execution_count": 56,
   "id": "176d00c1",
   "metadata": {},
   "outputs": [
    {
     "data": {
      "text/html": [
       "<div>\n",
       "<style scoped>\n",
       "    .dataframe tbody tr th:only-of-type {\n",
       "        vertical-align: middle;\n",
       "    }\n",
       "\n",
       "    .dataframe tbody tr th {\n",
       "        vertical-align: top;\n",
       "    }\n",
       "\n",
       "    .dataframe thead th {\n",
       "        text-align: right;\n",
       "    }\n",
       "</style>\n",
       "<table border=\"1\" class=\"dataframe\">\n",
       "  <thead>\n",
       "    <tr style=\"text-align: right;\">\n",
       "      <th></th>\n",
       "      <th>died</th>\n",
       "      <th>survived</th>\n",
       "    </tr>\n",
       "  </thead>\n",
       "  <tbody>\n",
       "    <tr>\n",
       "      <th>0</th>\n",
       "      <td>0.915314</td>\n",
       "      <td>0.084686</td>\n",
       "    </tr>\n",
       "    <tr>\n",
       "      <th>1</th>\n",
       "      <td>0.919253</td>\n",
       "      <td>0.080747</td>\n",
       "    </tr>\n",
       "    <tr>\n",
       "      <th>2</th>\n",
       "      <td>0.918825</td>\n",
       "      <td>0.081175</td>\n",
       "    </tr>\n",
       "    <tr>\n",
       "      <th>3</th>\n",
       "      <td>0.221348</td>\n",
       "      <td>0.778652</td>\n",
       "    </tr>\n",
       "    <tr>\n",
       "      <th>4</th>\n",
       "      <td>0.919260</td>\n",
       "      <td>0.080740</td>\n",
       "    </tr>\n",
       "    <tr>\n",
       "      <th>...</th>\n",
       "      <td>...</td>\n",
       "      <td>...</td>\n",
       "    </tr>\n",
       "    <tr>\n",
       "      <th>421</th>\n",
       "      <td>0.220154</td>\n",
       "      <td>0.779846</td>\n",
       "    </tr>\n",
       "    <tr>\n",
       "      <th>422</th>\n",
       "      <td>0.121888</td>\n",
       "      <td>0.878112</td>\n",
       "    </tr>\n",
       "    <tr>\n",
       "      <th>423</th>\n",
       "      <td>0.060697</td>\n",
       "      <td>0.939303</td>\n",
       "    </tr>\n",
       "    <tr>\n",
       "      <th>424</th>\n",
       "      <td>0.693897</td>\n",
       "      <td>0.306103</td>\n",
       "    </tr>\n",
       "    <tr>\n",
       "      <th>425</th>\n",
       "      <td>0.919260</td>\n",
       "      <td>0.080740</td>\n",
       "    </tr>\n",
       "  </tbody>\n",
       "</table>\n",
       "<p>426 rows × 2 columns</p>\n",
       "</div>"
      ],
      "text/plain": [
       "         died  survived\n",
       "0    0.915314  0.084686\n",
       "1    0.919253  0.080747\n",
       "2    0.918825  0.081175\n",
       "3    0.221348  0.778652\n",
       "4    0.919260  0.080740\n",
       "..        ...       ...\n",
       "421  0.220154  0.779846\n",
       "422  0.121888  0.878112\n",
       "423  0.060697  0.939303\n",
       "424  0.693897  0.306103\n",
       "425  0.919260  0.080740\n",
       "\n",
       "[426 rows x 2 columns]"
      ]
     },
     "execution_count": 56,
     "metadata": {},
     "output_type": "execute_result"
    }
   ],
   "source": [
    "#model 2\n",
    "y_pred_proba2"
   ]
  },
  {
   "cell_type": "code",
   "execution_count": 37,
   "id": "e29f63eb",
   "metadata": {},
   "outputs": [
    {
     "name": "stdout",
     "output_type": "stream",
     "text": [
      "              precision    recall  f1-score   support\n",
      "\n",
      "           0       0.79      0.92      0.85       254\n",
      "           1       0.84      0.63      0.72       172\n",
      "\n",
      "    accuracy                           0.81       426\n",
      "   macro avg       0.82      0.78      0.79       426\n",
      "weighted avg       0.81      0.81      0.80       426\n",
      "\n"
     ]
    }
   ],
   "source": [
    "#MOdel 1\n",
    "print(classification_report(y_train, y_pred))"
   ]
  },
  {
   "cell_type": "code",
   "execution_count": 58,
   "id": "91af1eaf",
   "metadata": {},
   "outputs": [
    {
     "name": "stdout",
     "output_type": "stream",
     "text": [
      "              precision    recall  f1-score   support\n",
      "\n",
      "           0       0.79      0.92      0.85       254\n",
      "           1       0.85      0.64      0.73       172\n",
      "\n",
      "    accuracy                           0.81       426\n",
      "   macro avg       0.82      0.78      0.79       426\n",
      "weighted avg       0.81      0.81      0.80       426\n",
      "\n"
     ]
    }
   ],
   "source": [
    "#model 2\n",
    "print(classification_report(y_train, y_pred2))"
   ]
  },
  {
   "cell_type": "code",
   "execution_count": 39,
   "id": "fd747617",
   "metadata": {},
   "outputs": [
    {
     "data": {
      "text/plain": [
       "array([[ 0.00296831,  0.01684144, -0.93811916,  1.22343803, -1.22395051,\n",
       "         0.99605364,  0.29841821, -1.29498432]])"
      ]
     },
     "execution_count": 39,
     "metadata": {},
     "output_type": "execute_result"
    }
   ],
   "source": [
    "logreg.coef_"
   ]
  },
  {
   "cell_type": "code",
   "execution_count": 41,
   "id": "babc8460",
   "metadata": {},
   "outputs": [
    {
     "data": {
      "text/html": [
       "<div>\n",
       "<style scoped>\n",
       "    .dataframe tbody tr th:only-of-type {\n",
       "        vertical-align: middle;\n",
       "    }\n",
       "\n",
       "    .dataframe tbody tr th {\n",
       "        vertical-align: top;\n",
       "    }\n",
       "\n",
       "    .dataframe thead th {\n",
       "        text-align: right;\n",
       "    }\n",
       "</style>\n",
       "<table border=\"1\" class=\"dataframe\">\n",
       "  <thead>\n",
       "    <tr style=\"text-align: right;\">\n",
       "      <th></th>\n",
       "      <th>fare</th>\n",
       "      <th>alone</th>\n",
       "      <th>is_adult</th>\n",
       "      <th>sex_female</th>\n",
       "      <th>sex_male</th>\n",
       "      <th>class_First</th>\n",
       "      <th>class_Second</th>\n",
       "      <th>class_Third</th>\n",
       "    </tr>\n",
       "  </thead>\n",
       "  <tbody>\n",
       "    <tr>\n",
       "      <th>104</th>\n",
       "      <td>7.9250</td>\n",
       "      <td>0</td>\n",
       "      <td>1</td>\n",
       "      <td>0</td>\n",
       "      <td>1</td>\n",
       "      <td>0</td>\n",
       "      <td>0</td>\n",
       "      <td>1</td>\n",
       "    </tr>\n",
       "    <tr>\n",
       "      <th>379</th>\n",
       "      <td>7.7750</td>\n",
       "      <td>1</td>\n",
       "      <td>1</td>\n",
       "      <td>0</td>\n",
       "      <td>1</td>\n",
       "      <td>0</td>\n",
       "      <td>0</td>\n",
       "      <td>1</td>\n",
       "    </tr>\n",
       "    <tr>\n",
       "      <th>682</th>\n",
       "      <td>9.2250</td>\n",
       "      <td>1</td>\n",
       "      <td>1</td>\n",
       "      <td>0</td>\n",
       "      <td>1</td>\n",
       "      <td>0</td>\n",
       "      <td>0</td>\n",
       "      <td>1</td>\n",
       "    </tr>\n",
       "    <tr>\n",
       "      <th>432</th>\n",
       "      <td>26.0000</td>\n",
       "      <td>0</td>\n",
       "      <td>1</td>\n",
       "      <td>1</td>\n",
       "      <td>0</td>\n",
       "      <td>0</td>\n",
       "      <td>1</td>\n",
       "      <td>0</td>\n",
       "    </tr>\n",
       "    <tr>\n",
       "      <th>890</th>\n",
       "      <td>7.7500</td>\n",
       "      <td>1</td>\n",
       "      <td>1</td>\n",
       "      <td>0</td>\n",
       "      <td>1</td>\n",
       "      <td>0</td>\n",
       "      <td>0</td>\n",
       "      <td>1</td>\n",
       "    </tr>\n",
       "    <tr>\n",
       "      <th>...</th>\n",
       "      <td>...</td>\n",
       "      <td>...</td>\n",
       "      <td>...</td>\n",
       "      <td>...</td>\n",
       "      <td>...</td>\n",
       "      <td>...</td>\n",
       "      <td>...</td>\n",
       "      <td>...</td>\n",
       "    </tr>\n",
       "    <tr>\n",
       "      <th>472</th>\n",
       "      <td>27.7500</td>\n",
       "      <td>0</td>\n",
       "      <td>1</td>\n",
       "      <td>1</td>\n",
       "      <td>0</td>\n",
       "      <td>0</td>\n",
       "      <td>1</td>\n",
       "      <td>0</td>\n",
       "    </tr>\n",
       "    <tr>\n",
       "      <th>310</th>\n",
       "      <td>83.1583</td>\n",
       "      <td>1</td>\n",
       "      <td>1</td>\n",
       "      <td>1</td>\n",
       "      <td>0</td>\n",
       "      <td>1</td>\n",
       "      <td>0</td>\n",
       "      <td>0</td>\n",
       "    </tr>\n",
       "    <tr>\n",
       "      <th>341</th>\n",
       "      <td>263.0000</td>\n",
       "      <td>0</td>\n",
       "      <td>1</td>\n",
       "      <td>1</td>\n",
       "      <td>0</td>\n",
       "      <td>1</td>\n",
       "      <td>0</td>\n",
       "      <td>0</td>\n",
       "    </tr>\n",
       "    <tr>\n",
       "      <th>72</th>\n",
       "      <td>73.5000</td>\n",
       "      <td>1</td>\n",
       "      <td>1</td>\n",
       "      <td>0</td>\n",
       "      <td>1</td>\n",
       "      <td>0</td>\n",
       "      <td>1</td>\n",
       "      <td>0</td>\n",
       "    </tr>\n",
       "    <tr>\n",
       "      <th>749</th>\n",
       "      <td>7.7500</td>\n",
       "      <td>1</td>\n",
       "      <td>1</td>\n",
       "      <td>0</td>\n",
       "      <td>1</td>\n",
       "      <td>0</td>\n",
       "      <td>0</td>\n",
       "      <td>1</td>\n",
       "    </tr>\n",
       "  </tbody>\n",
       "</table>\n",
       "<p>426 rows × 8 columns</p>\n",
       "</div>"
      ],
      "text/plain": [
       "         fare  alone  is_adult  sex_female  sex_male  class_First  \\\n",
       "104    7.9250      0         1           0         1            0   \n",
       "379    7.7750      1         1           0         1            0   \n",
       "682    9.2250      1         1           0         1            0   \n",
       "432   26.0000      0         1           1         0            0   \n",
       "890    7.7500      1         1           0         1            0   \n",
       "..        ...    ...       ...         ...       ...          ...   \n",
       "472   27.7500      0         1           1         0            0   \n",
       "310   83.1583      1         1           1         0            1   \n",
       "341  263.0000      0         1           1         0            1   \n",
       "72    73.5000      1         1           0         1            0   \n",
       "749    7.7500      1         1           0         1            0   \n",
       "\n",
       "     class_Second  class_Third  \n",
       "104             0            1  \n",
       "379             0            1  \n",
       "682             0            1  \n",
       "432             1            0  \n",
       "890             0            1  \n",
       "..            ...          ...  \n",
       "472             1            0  \n",
       "310             0            0  \n",
       "341             0            0  \n",
       "72              1            0  \n",
       "749             0            1  \n",
       "\n",
       "[426 rows x 8 columns]"
      ]
     },
     "execution_count": 41,
     "metadata": {},
     "output_type": "execute_result"
    }
   ],
   "source": [
    "x_train"
   ]
  },
  {
   "cell_type": "code",
   "execution_count": 43,
   "id": "40cf8e6c",
   "metadata": {},
   "outputs": [
    {
     "data": {
      "text/html": [
       "<div>\n",
       "<style scoped>\n",
       "    .dataframe tbody tr th:only-of-type {\n",
       "        vertical-align: middle;\n",
       "    }\n",
       "\n",
       "    .dataframe tbody tr th {\n",
       "        vertical-align: top;\n",
       "    }\n",
       "\n",
       "    .dataframe thead th {\n",
       "        text-align: right;\n",
       "    }\n",
       "</style>\n",
       "<table border=\"1\" class=\"dataframe\">\n",
       "  <thead>\n",
       "    <tr style=\"text-align: right;\">\n",
       "      <th></th>\n",
       "      <th>coeff</th>\n",
       "    </tr>\n",
       "  </thead>\n",
       "  <tbody>\n",
       "    <tr>\n",
       "      <th>fare</th>\n",
       "      <td>0.002968</td>\n",
       "    </tr>\n",
       "    <tr>\n",
       "      <th>alone</th>\n",
       "      <td>0.016841</td>\n",
       "    </tr>\n",
       "    <tr>\n",
       "      <th>is_adult</th>\n",
       "      <td>-0.938119</td>\n",
       "    </tr>\n",
       "    <tr>\n",
       "      <th>sex_female</th>\n",
       "      <td>1.223438</td>\n",
       "    </tr>\n",
       "    <tr>\n",
       "      <th>sex_male</th>\n",
       "      <td>-1.223951</td>\n",
       "    </tr>\n",
       "    <tr>\n",
       "      <th>class_First</th>\n",
       "      <td>0.996054</td>\n",
       "    </tr>\n",
       "    <tr>\n",
       "      <th>class_Second</th>\n",
       "      <td>0.298418</td>\n",
       "    </tr>\n",
       "    <tr>\n",
       "      <th>class_Third</th>\n",
       "      <td>-1.294984</td>\n",
       "    </tr>\n",
       "  </tbody>\n",
       "</table>\n",
       "</div>"
      ],
      "text/plain": [
       "                 coeff\n",
       "fare          0.002968\n",
       "alone         0.016841\n",
       "is_adult     -0.938119\n",
       "sex_female    1.223438\n",
       "sex_male     -1.223951\n",
       "class_First   0.996054\n",
       "class_Second  0.298418\n",
       "class_Third  -1.294984"
      ]
     },
     "execution_count": 43,
     "metadata": {},
     "output_type": "execute_result"
    }
   ],
   "source": [
    "#MODEL 1 coeffs\n",
    "log_coeffs = pd.DataFrame(logreg.coef_[0], index=x_train.columns,\n",
    "                         columns=['coeff'])\n",
    "log_coeffs"
   ]
  },
  {
   "cell_type": "code",
   "execution_count": 59,
   "id": "43fb0511",
   "metadata": {},
   "outputs": [
    {
     "data": {
      "text/html": [
       "<div>\n",
       "<style scoped>\n",
       "    .dataframe tbody tr th:only-of-type {\n",
       "        vertical-align: middle;\n",
       "    }\n",
       "\n",
       "    .dataframe tbody tr th {\n",
       "        vertical-align: top;\n",
       "    }\n",
       "\n",
       "    .dataframe thead th {\n",
       "        text-align: right;\n",
       "    }\n",
       "</style>\n",
       "<table border=\"1\" class=\"dataframe\">\n",
       "  <thead>\n",
       "    <tr style=\"text-align: right;\">\n",
       "      <th></th>\n",
       "      <th>coeff</th>\n",
       "    </tr>\n",
       "  </thead>\n",
       "  <tbody>\n",
       "    <tr>\n",
       "      <th>fare</th>\n",
       "      <td>0.003966</td>\n",
       "    </tr>\n",
       "    <tr>\n",
       "      <th>alone</th>\n",
       "      <td>-0.051327</td>\n",
       "    </tr>\n",
       "    <tr>\n",
       "      <th>is_adult</th>\n",
       "      <td>-0.691877</td>\n",
       "    </tr>\n",
       "    <tr>\n",
       "      <th>sex_female</th>\n",
       "      <td>1.104217</td>\n",
       "    </tr>\n",
       "    <tr>\n",
       "      <th>sex_male</th>\n",
       "      <td>-1.109070</td>\n",
       "    </tr>\n",
       "    <tr>\n",
       "      <th>class_First</th>\n",
       "      <td>0.810431</td>\n",
       "    </tr>\n",
       "    <tr>\n",
       "      <th>class_Second</th>\n",
       "      <td>0.268944</td>\n",
       "    </tr>\n",
       "    <tr>\n",
       "      <th>class_Third</th>\n",
       "      <td>-1.084228</td>\n",
       "    </tr>\n",
       "  </tbody>\n",
       "</table>\n",
       "</div>"
      ],
      "text/plain": [
       "                 coeff\n",
       "fare          0.003966\n",
       "alone        -0.051327\n",
       "is_adult     -0.691877\n",
       "sex_female    1.104217\n",
       "sex_male     -1.109070\n",
       "class_First   0.810431\n",
       "class_Second  0.268944\n",
       "class_Third  -1.084228"
      ]
     },
     "execution_count": 59,
     "metadata": {},
     "output_type": "execute_result"
    }
   ],
   "source": [
    "#model 2 coeff\n",
    "log_coeffs2 = pd.DataFrame(logreg2.coef_[0], index = x_train.columns, columns = ['coeff'])\n",
    "log_coeffs2"
   ]
  },
  {
   "cell_type": "code",
   "execution_count": 44,
   "id": "2d6c4936",
   "metadata": {},
   "outputs": [
    {
     "data": {
      "text/html": [
       "<div>\n",
       "<style scoped>\n",
       "    .dataframe tbody tr th:only-of-type {\n",
       "        vertical-align: middle;\n",
       "    }\n",
       "\n",
       "    .dataframe tbody tr th {\n",
       "        vertical-align: top;\n",
       "    }\n",
       "\n",
       "    .dataframe thead th {\n",
       "        text-align: right;\n",
       "    }\n",
       "</style>\n",
       "<table border=\"1\" class=\"dataframe\">\n",
       "  <thead>\n",
       "    <tr style=\"text-align: right;\">\n",
       "      <th></th>\n",
       "      <th>coeff</th>\n",
       "    </tr>\n",
       "  </thead>\n",
       "  <tbody>\n",
       "    <tr>\n",
       "      <th>fare</th>\n",
       "      <td>1.002973</td>\n",
       "    </tr>\n",
       "    <tr>\n",
       "      <th>alone</th>\n",
       "      <td>1.016984</td>\n",
       "    </tr>\n",
       "    <tr>\n",
       "      <th>is_adult</th>\n",
       "      <td>0.391363</td>\n",
       "    </tr>\n",
       "    <tr>\n",
       "      <th>sex_female</th>\n",
       "      <td>3.398853</td>\n",
       "    </tr>\n",
       "    <tr>\n",
       "      <th>sex_male</th>\n",
       "      <td>0.294066</td>\n",
       "    </tr>\n",
       "    <tr>\n",
       "      <th>class_First</th>\n",
       "      <td>2.707576</td>\n",
       "    </tr>\n",
       "    <tr>\n",
       "      <th>class_Second</th>\n",
       "      <td>1.347725</td>\n",
       "    </tr>\n",
       "    <tr>\n",
       "      <th>class_Third</th>\n",
       "      <td>0.273902</td>\n",
       "    </tr>\n",
       "  </tbody>\n",
       "</table>\n",
       "</div>"
      ],
      "text/plain": [
       "                 coeff\n",
       "fare          1.002973\n",
       "alone         1.016984\n",
       "is_adult      0.391363\n",
       "sex_female    3.398853\n",
       "sex_male      0.294066\n",
       "class_First   2.707576\n",
       "class_Second  1.347725\n",
       "class_Third   0.273902"
      ]
     },
     "execution_count": 44,
     "metadata": {},
     "output_type": "execute_result"
    }
   ],
   "source": [
    "#model 1 odds\n",
    "odds = np.exp(log_coeffs)\n",
    "odds"
   ]
  },
  {
   "cell_type": "code",
   "execution_count": 60,
   "id": "fb61ab36",
   "metadata": {},
   "outputs": [
    {
     "data": {
      "text/html": [
       "<div>\n",
       "<style scoped>\n",
       "    .dataframe tbody tr th:only-of-type {\n",
       "        vertical-align: middle;\n",
       "    }\n",
       "\n",
       "    .dataframe tbody tr th {\n",
       "        vertical-align: top;\n",
       "    }\n",
       "\n",
       "    .dataframe thead th {\n",
       "        text-align: right;\n",
       "    }\n",
       "</style>\n",
       "<table border=\"1\" class=\"dataframe\">\n",
       "  <thead>\n",
       "    <tr style=\"text-align: right;\">\n",
       "      <th></th>\n",
       "      <th>coeff</th>\n",
       "    </tr>\n",
       "  </thead>\n",
       "  <tbody>\n",
       "    <tr>\n",
       "      <th>fare</th>\n",
       "      <td>1.003974</td>\n",
       "    </tr>\n",
       "    <tr>\n",
       "      <th>alone</th>\n",
       "      <td>0.949968</td>\n",
       "    </tr>\n",
       "    <tr>\n",
       "      <th>is_adult</th>\n",
       "      <td>0.500636</td>\n",
       "    </tr>\n",
       "    <tr>\n",
       "      <th>sex_female</th>\n",
       "      <td>3.016862</td>\n",
       "    </tr>\n",
       "    <tr>\n",
       "      <th>sex_male</th>\n",
       "      <td>0.329866</td>\n",
       "    </tr>\n",
       "    <tr>\n",
       "      <th>class_First</th>\n",
       "      <td>2.248876</td>\n",
       "    </tr>\n",
       "    <tr>\n",
       "      <th>class_Second</th>\n",
       "      <td>1.308582</td>\n",
       "    </tr>\n",
       "    <tr>\n",
       "      <th>class_Third</th>\n",
       "      <td>0.338163</td>\n",
       "    </tr>\n",
       "  </tbody>\n",
       "</table>\n",
       "</div>"
      ],
      "text/plain": [
       "                 coeff\n",
       "fare          1.003974\n",
       "alone         0.949968\n",
       "is_adult      0.500636\n",
       "sex_female    3.016862\n",
       "sex_male      0.329866\n",
       "class_First   2.248876\n",
       "class_Second  1.308582\n",
       "class_Third   0.338163"
      ]
     },
     "execution_count": 60,
     "metadata": {},
     "output_type": "execute_result"
    }
   ],
   "source": [
    "odds2 = np.exp(log_coeffs2)\n",
    "odds2"
   ]
  },
  {
   "cell_type": "code",
   "execution_count": 61,
   "id": "f12a54b5",
   "metadata": {},
   "outputs": [
    {
     "name": "stdout",
     "output_type": "stream",
     "text": [
      "              precision    recall  f1-score   support\n",
      "\n",
      "           0       0.74      0.89      0.81        85\n",
      "           1       0.78      0.53      0.63        58\n",
      "\n",
      "    accuracy                           0.75       143\n",
      "   macro avg       0.76      0.71      0.72       143\n",
      "weighted avg       0.75      0.75      0.74       143\n",
      "\n"
     ]
    }
   ],
   "source": [
    "#model1 validate\n",
    "print(classification_report(y_validate, logreg.predict(x_validate)))"
   ]
  },
  {
   "cell_type": "code",
   "execution_count": 62,
   "id": "ebc0b668",
   "metadata": {},
   "outputs": [
    {
     "name": "stdout",
     "output_type": "stream",
     "text": [
      "              precision    recall  f1-score   support\n",
      "\n",
      "           0       0.74      0.91      0.81        85\n",
      "           1       0.79      0.53      0.64        58\n",
      "\n",
      "    accuracy                           0.76       143\n",
      "   macro avg       0.77      0.72      0.73       143\n",
      "weighted avg       0.76      0.76      0.74       143\n",
      "\n"
     ]
    }
   ],
   "source": [
    "#model2 validate\n",
    "print(classification_report(y_validate, logreg2.predict(x_validate)))"
   ]
  },
  {
   "cell_type": "code",
   "execution_count": null,
   "id": "d8fb75b0",
   "metadata": {},
   "outputs": [],
   "source": []
  }
 ],
 "metadata": {
  "kernelspec": {
   "display_name": "Python 3 (ipykernel)",
   "language": "python",
   "name": "python3"
  },
  "language_info": {
   "codemirror_mode": {
    "name": "ipython",
    "version": 3
   },
   "file_extension": ".py",
   "mimetype": "text/x-python",
   "name": "python",
   "nbconvert_exporter": "python",
   "pygments_lexer": "ipython3",
   "version": "3.9.12"
  }
 },
 "nbformat": 4,
 "nbformat_minor": 5
}
