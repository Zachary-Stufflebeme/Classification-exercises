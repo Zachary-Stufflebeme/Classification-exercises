{
 "cells": [
  {
   "cell_type": "code",
   "execution_count": 11,
   "id": "6e8c7546",
   "metadata": {},
   "outputs": [],
   "source": [
    "import pandas as pd\n",
    "import numpy as np"
   ]
  },
  {
   "cell_type": "code",
   "execution_count": 1,
   "id": "6b4297e2",
   "metadata": {},
   "outputs": [],
   "source": [
    "# 2 \n",
    " #cat = positivr class\n",
    " #dog = negative class\n"
   ]
  },
  {
   "cell_type": "code",
   "execution_count": 2,
   "id": "323892a5",
   "metadata": {},
   "outputs": [],
   "source": [
    "#in the case of this problem what is a fasle positive?\n",
    " #FP = we predict cat. actually dog"
   ]
  },
  {
   "cell_type": "code",
   "execution_count": 3,
   "id": "9c646922",
   "metadata": {},
   "outputs": [],
   "source": [
    "#In the case of this problem what is a false negative?\n",
    " # FN = we predict dog. actually cat"
   ]
  },
  {
   "cell_type": "code",
   "execution_count": 5,
   "id": "362f906e",
   "metadata": {},
   "outputs": [],
   "source": [
    "#How would you describe this model?\n",
    "\n",
    "#True Positive: we predict cat. actually cat\n",
    "tp = 34\n",
    "\n",
    "#True negative: we predict dog. actually dog\n",
    "tn = 46\n",
    "\n",
    "#False Positive: we predict cat. actually dog\n",
    "fp = 7\n",
    "\n",
    "#False Negative: we predict dog. actually cat\n",
    "fn = 13\n"
   ]
  },
  {
   "cell_type": "code",
   "execution_count": 7,
   "id": "866d3772",
   "metadata": {},
   "outputs": [
    {
     "name": "stdout",
     "output_type": "stream",
     "text": [
      "Cat-classifier (where cat is the positive prediction)\n",
      "True Positives 34\n",
      "True Negatives 46\n",
      "False Positives 7\n",
      "False Negatives 13\n",
      "========================================\n",
      "accuracy is  0.8\n",
      "recall is 0.72\n",
      "precision is 0.83\n"
     ]
    }
   ],
   "source": [
    "print('Cat-classifier (where cat is the positive prediction)')\n",
    "\n",
    "print('True Positives', tp)\n",
    "print('True Negatives', tn)\n",
    "print('False Positives', fp)\n",
    "print('False Negatives', fn)\n",
    "print('========================================')\n",
    "accuracy = (tp + tn)/(tp+tn+fp+fn)\n",
    "precision = tp / (tp + fp)\n",
    "recall = tp/ (tp + fn)\n",
    "print('accuracy is ', accuracy)\n",
    "print('recall is',round(recall,2))\n",
    "print('precision is',round(precision,2))"
   ]
  },
  {
   "cell_type": "code",
   "execution_count": 8,
   "id": "ee124ffc",
   "metadata": {},
   "outputs": [],
   "source": [
    "                                 #NUMBER THREE"
   ]
  },
  {
   "cell_type": "code",
   "execution_count": 9,
   "id": "b7efe975",
   "metadata": {},
   "outputs": [],
   "source": [
    "#An internal team wants to investigate the cause of the manufacturing defects.\n",
    "#They tell you that they want to identify as many of the ducks that have a defect as possible. \n",
    "#Which evaluation metric would be appropriate here? \n",
    "#Which model would be the best fit for this use case?\n"
   ]
  },
  {
   "cell_type": "code",
   "execution_count": 13,
   "id": "fabefa8d",
   "metadata": {},
   "outputs": [],
   "source": [
    "df = pd.read_csv('c3.csv')"
   ]
  },
  {
   "cell_type": "code",
   "execution_count": 20,
   "id": "22232fae",
   "metadata": {},
   "outputs": [
    {
     "data": {
      "text/plain": [
       "No Defect    184\n",
       "Defect        16\n",
       "Name: actual, dtype: int64"
      ]
     },
     "execution_count": 20,
     "metadata": {},
     "output_type": "execute_result"
    }
   ],
   "source": [
    "df.actual.value_counts()"
   ]
  },
  {
   "cell_type": "code",
   "execution_count": 21,
   "id": "c9f86dd1",
   "metadata": {},
   "outputs": [],
   "source": [
    "#we are checking for defects therefor defects is the positive class.\n",
    "#Since we are looking for defective ducks the best method would be 'Recall'\n",
    "#\"recall = tp/(tp + fn)\"\n",
    "\n",
    "\n"
   ]
  },
  {
   "cell_type": "code",
   "execution_count": 23,
   "id": "fedfaeec",
   "metadata": {},
   "outputs": [
    {
     "data": {
      "text/html": [
       "<div>\n",
       "<style scoped>\n",
       "    .dataframe tbody tr th:only-of-type {\n",
       "        vertical-align: middle;\n",
       "    }\n",
       "\n",
       "    .dataframe tbody tr th {\n",
       "        vertical-align: top;\n",
       "    }\n",
       "\n",
       "    .dataframe thead th {\n",
       "        text-align: right;\n",
       "    }\n",
       "</style>\n",
       "<table border=\"1\" class=\"dataframe\">\n",
       "  <thead>\n",
       "    <tr style=\"text-align: right;\">\n",
       "      <th></th>\n",
       "      <th>actual</th>\n",
       "      <th>model1</th>\n",
       "      <th>model2</th>\n",
       "      <th>model3</th>\n",
       "    </tr>\n",
       "  </thead>\n",
       "  <tbody>\n",
       "    <tr>\n",
       "      <th>13</th>\n",
       "      <td>Defect</td>\n",
       "      <td>No Defect</td>\n",
       "      <td>Defect</td>\n",
       "      <td>Defect</td>\n",
       "    </tr>\n",
       "    <tr>\n",
       "      <th>30</th>\n",
       "      <td>Defect</td>\n",
       "      <td>Defect</td>\n",
       "      <td>No Defect</td>\n",
       "      <td>Defect</td>\n",
       "    </tr>\n",
       "    <tr>\n",
       "      <th>65</th>\n",
       "      <td>Defect</td>\n",
       "      <td>Defect</td>\n",
       "      <td>Defect</td>\n",
       "      <td>Defect</td>\n",
       "    </tr>\n",
       "    <tr>\n",
       "      <th>70</th>\n",
       "      <td>Defect</td>\n",
       "      <td>Defect</td>\n",
       "      <td>Defect</td>\n",
       "      <td>Defect</td>\n",
       "    </tr>\n",
       "    <tr>\n",
       "      <th>74</th>\n",
       "      <td>Defect</td>\n",
       "      <td>No Defect</td>\n",
       "      <td>No Defect</td>\n",
       "      <td>Defect</td>\n",
       "    </tr>\n",
       "    <tr>\n",
       "      <th>87</th>\n",
       "      <td>Defect</td>\n",
       "      <td>No Defect</td>\n",
       "      <td>Defect</td>\n",
       "      <td>Defect</td>\n",
       "    </tr>\n",
       "    <tr>\n",
       "      <th>118</th>\n",
       "      <td>Defect</td>\n",
       "      <td>No Defect</td>\n",
       "      <td>Defect</td>\n",
       "      <td>No Defect</td>\n",
       "    </tr>\n",
       "    <tr>\n",
       "      <th>135</th>\n",
       "      <td>Defect</td>\n",
       "      <td>Defect</td>\n",
       "      <td>No Defect</td>\n",
       "      <td>Defect</td>\n",
       "    </tr>\n",
       "    <tr>\n",
       "      <th>140</th>\n",
       "      <td>Defect</td>\n",
       "      <td>No Defect</td>\n",
       "      <td>Defect</td>\n",
       "      <td>Defect</td>\n",
       "    </tr>\n",
       "    <tr>\n",
       "      <th>147</th>\n",
       "      <td>Defect</td>\n",
       "      <td>Defect</td>\n",
       "      <td>No Defect</td>\n",
       "      <td>Defect</td>\n",
       "    </tr>\n",
       "    <tr>\n",
       "      <th>163</th>\n",
       "      <td>Defect</td>\n",
       "      <td>Defect</td>\n",
       "      <td>Defect</td>\n",
       "      <td>Defect</td>\n",
       "    </tr>\n",
       "    <tr>\n",
       "      <th>171</th>\n",
       "      <td>Defect</td>\n",
       "      <td>No Defect</td>\n",
       "      <td>Defect</td>\n",
       "      <td>Defect</td>\n",
       "    </tr>\n",
       "    <tr>\n",
       "      <th>176</th>\n",
       "      <td>Defect</td>\n",
       "      <td>No Defect</td>\n",
       "      <td>Defect</td>\n",
       "      <td>Defect</td>\n",
       "    </tr>\n",
       "    <tr>\n",
       "      <th>186</th>\n",
       "      <td>Defect</td>\n",
       "      <td>No Defect</td>\n",
       "      <td>No Defect</td>\n",
       "      <td>No Defect</td>\n",
       "    </tr>\n",
       "    <tr>\n",
       "      <th>194</th>\n",
       "      <td>Defect</td>\n",
       "      <td>Defect</td>\n",
       "      <td>No Defect</td>\n",
       "      <td>Defect</td>\n",
       "    </tr>\n",
       "    <tr>\n",
       "      <th>196</th>\n",
       "      <td>Defect</td>\n",
       "      <td>Defect</td>\n",
       "      <td>No Defect</td>\n",
       "      <td>No Defect</td>\n",
       "    </tr>\n",
       "  </tbody>\n",
       "</table>\n",
       "</div>"
      ],
      "text/plain": [
       "     actual     model1     model2     model3\n",
       "13   Defect  No Defect     Defect     Defect\n",
       "30   Defect     Defect  No Defect     Defect\n",
       "65   Defect     Defect     Defect     Defect\n",
       "70   Defect     Defect     Defect     Defect\n",
       "74   Defect  No Defect  No Defect     Defect\n",
       "87   Defect  No Defect     Defect     Defect\n",
       "118  Defect  No Defect     Defect  No Defect\n",
       "135  Defect     Defect  No Defect     Defect\n",
       "140  Defect  No Defect     Defect     Defect\n",
       "147  Defect     Defect  No Defect     Defect\n",
       "163  Defect     Defect     Defect     Defect\n",
       "171  Defect  No Defect     Defect     Defect\n",
       "176  Defect  No Defect     Defect     Defect\n",
       "186  Defect  No Defect  No Defect  No Defect\n",
       "194  Defect     Defect  No Defect     Defect\n",
       "196  Defect     Defect  No Defect  No Defect"
      ]
     },
     "execution_count": 23,
     "metadata": {},
     "output_type": "execute_result"
    }
   ],
   "source": [
    "#Model Positives:\n",
    "subset = df[df.actual == 'Defect']\n",
    "subset"
   ]
  },
  {
   "cell_type": "code",
   "execution_count": 26,
   "id": "94601ded",
   "metadata": {},
   "outputs": [
    {
     "name": "stdout",
     "output_type": "stream",
     "text": [
      "model 1 recall:  0.5\n"
     ]
    }
   ],
   "source": [
    "# model_1\n",
    "model_1_recall = (subset.actual == subset.model1).mean()\n",
    "print(\"model 1 recall: \", model_1_recall)"
   ]
  },
  {
   "cell_type": "code",
   "execution_count": 27,
   "id": "8982fdb4",
   "metadata": {},
   "outputs": [
    {
     "name": "stdout",
     "output_type": "stream",
     "text": [
      "model 2 recall:  0.5625\n"
     ]
    }
   ],
   "source": [
    "# model_2\n",
    "model_2_recall = (subset.actual == subset.model2).mean()\n",
    "print(\"model 2 recall: \", model_2_recall)"
   ]
  },
  {
   "cell_type": "code",
   "execution_count": 28,
   "id": "6d5129d5",
   "metadata": {},
   "outputs": [
    {
     "name": "stdout",
     "output_type": "stream",
     "text": [
      "model 3 recall:  0.8125\n"
     ]
    }
   ],
   "source": [
    "#model_3\n",
    "model_3_recall =(subset.actual == subset.model3).mean()\n",
    "print('model 3 recall: ', model_3_recall)"
   ]
  },
  {
   "cell_type": "code",
   "execution_count": 30,
   "id": "06a0bc05",
   "metadata": {},
   "outputs": [],
   "source": [
    "#Recently several stories in the local news have come out highlighting customers who received a \n",
    "#rubber duck with a defect, and portraying C3 in a bad light. \n",
    "#The PR team has decided to launch a program that gives customers with a defective duck a vacation to Hawaii. \n",
    "#They need you to predict which ducks will have defects, but tell you the really don't want to accidentally \n",
    "#give out a vacation package when the duck really doesn't have a defect. \n",
    "#Which evaluation metric would be appropriate here? \n",
    "#Which model would be the best fit for this use case?"
   ]
  },
  {
   "cell_type": "code",
   "execution_count": 31,
   "id": "650b7878",
   "metadata": {},
   "outputs": [],
   "source": [
    "# we are looking for defects therefor defect would be the positive class\n",
    "\n",
    "# false positive: we say defective. actually good.\n",
    "# false negative: we say good. actually defective\n",
    "#precision = tp / (tp + fp)\n",
    "\n",
    "# WE ARE TESTING FOR PRECISION BC LOOKING FOR POSITIVE PREDICTIONS\n"
   ]
  },
  {
   "cell_type": "code",
   "execution_count": 32,
   "id": "5eea27dd",
   "metadata": {},
   "outputs": [
    {
     "data": {
      "text/html": [
       "<div>\n",
       "<style scoped>\n",
       "    .dataframe tbody tr th:only-of-type {\n",
       "        vertical-align: middle;\n",
       "    }\n",
       "\n",
       "    .dataframe tbody tr th {\n",
       "        vertical-align: top;\n",
       "    }\n",
       "\n",
       "    .dataframe thead th {\n",
       "        text-align: right;\n",
       "    }\n",
       "</style>\n",
       "<table border=\"1\" class=\"dataframe\">\n",
       "  <thead>\n",
       "    <tr style=\"text-align: right;\">\n",
       "      <th></th>\n",
       "      <th>actual</th>\n",
       "      <th>model1</th>\n",
       "      <th>model2</th>\n",
       "      <th>model3</th>\n",
       "    </tr>\n",
       "  </thead>\n",
       "  <tbody>\n",
       "    <tr>\n",
       "      <th>3</th>\n",
       "      <td>No Defect</td>\n",
       "      <td>Defect</td>\n",
       "      <td>Defect</td>\n",
       "      <td>Defect</td>\n",
       "    </tr>\n",
       "    <tr>\n",
       "      <th>30</th>\n",
       "      <td>Defect</td>\n",
       "      <td>Defect</td>\n",
       "      <td>No Defect</td>\n",
       "      <td>Defect</td>\n",
       "    </tr>\n",
       "    <tr>\n",
       "      <th>62</th>\n",
       "      <td>No Defect</td>\n",
       "      <td>Defect</td>\n",
       "      <td>No Defect</td>\n",
       "      <td>No Defect</td>\n",
       "    </tr>\n",
       "    <tr>\n",
       "      <th>65</th>\n",
       "      <td>Defect</td>\n",
       "      <td>Defect</td>\n",
       "      <td>Defect</td>\n",
       "      <td>Defect</td>\n",
       "    </tr>\n",
       "    <tr>\n",
       "      <th>70</th>\n",
       "      <td>Defect</td>\n",
       "      <td>Defect</td>\n",
       "      <td>Defect</td>\n",
       "      <td>Defect</td>\n",
       "    </tr>\n",
       "    <tr>\n",
       "      <th>135</th>\n",
       "      <td>Defect</td>\n",
       "      <td>Defect</td>\n",
       "      <td>No Defect</td>\n",
       "      <td>Defect</td>\n",
       "    </tr>\n",
       "    <tr>\n",
       "      <th>147</th>\n",
       "      <td>Defect</td>\n",
       "      <td>Defect</td>\n",
       "      <td>No Defect</td>\n",
       "      <td>Defect</td>\n",
       "    </tr>\n",
       "    <tr>\n",
       "      <th>163</th>\n",
       "      <td>Defect</td>\n",
       "      <td>Defect</td>\n",
       "      <td>Defect</td>\n",
       "      <td>Defect</td>\n",
       "    </tr>\n",
       "    <tr>\n",
       "      <th>194</th>\n",
       "      <td>Defect</td>\n",
       "      <td>Defect</td>\n",
       "      <td>No Defect</td>\n",
       "      <td>Defect</td>\n",
       "    </tr>\n",
       "    <tr>\n",
       "      <th>196</th>\n",
       "      <td>Defect</td>\n",
       "      <td>Defect</td>\n",
       "      <td>No Defect</td>\n",
       "      <td>No Defect</td>\n",
       "    </tr>\n",
       "  </tbody>\n",
       "</table>\n",
       "</div>"
      ],
      "text/plain": [
       "        actual  model1     model2     model3\n",
       "3    No Defect  Defect     Defect     Defect\n",
       "30      Defect  Defect  No Defect     Defect\n",
       "62   No Defect  Defect  No Defect  No Defect\n",
       "65      Defect  Defect     Defect     Defect\n",
       "70      Defect  Defect     Defect     Defect\n",
       "135     Defect  Defect  No Defect     Defect\n",
       "147     Defect  Defect  No Defect     Defect\n",
       "163     Defect  Defect     Defect     Defect\n",
       "194     Defect  Defect  No Defect     Defect\n",
       "196     Defect  Defect  No Defect  No Defect"
      ]
     },
     "execution_count": 32,
     "metadata": {},
     "output_type": "execute_result"
    }
   ],
   "source": [
    "subset = df [df.model1 == 'Defect']\n",
    "subset"
   ]
  },
  {
   "cell_type": "code",
   "execution_count": 34,
   "id": "262a4f6a",
   "metadata": {},
   "outputs": [
    {
     "name": "stdout",
     "output_type": "stream",
     "text": [
      "model 1 precision:  0.8\n"
     ]
    }
   ],
   "source": [
    "#calculating precision\n",
    "model_precision = (subset.actual == subset.model1).mean()\n",
    "print('model 1 precision: ', model_precision)"
   ]
  },
  {
   "cell_type": "code",
   "execution_count": 36,
   "id": "9ecaed8b",
   "metadata": {},
   "outputs": [
    {
     "name": "stdout",
     "output_type": "stream",
     "text": [
      "model 2 precision:  0.1\n"
     ]
    }
   ],
   "source": [
    "#model 2\n",
    "subset = df[df.model2 == 'Defect']\n",
    "model_precision = (subset.actual == subset.model2).mean()\n",
    "print('model 2 precision: ', model_precision)"
   ]
  },
  {
   "cell_type": "code",
   "execution_count": 39,
   "id": "8a102cff",
   "metadata": {},
   "outputs": [
    {
     "name": "stdout",
     "output_type": "stream",
     "text": [
      "model 3 precision:  0.13131313131313133\n"
     ]
    }
   ],
   "source": [
    "# model 3\n",
    "subset = df[df.model3 == 'Defect']\n",
    "model_precision = (subset.actual == subset.model3).mean()\n",
    "print('model 3 precision: ', model_precision)"
   ]
  },
  {
   "cell_type": "code",
   "execution_count": 40,
   "id": "b78b0a28",
   "metadata": {},
   "outputs": [],
   "source": [
    "#of these three models the 1st is the most precise and is the one we would use to minimize false positives.\n"
   ]
  },
  {
   "cell_type": "code",
   "execution_count": 42,
   "id": "2f125cce",
   "metadata": {},
   "outputs": [],
   "source": [
    "df = pd.read_csv('gives_you_paws.csv')"
   ]
  },
  {
   "cell_type": "code",
   "execution_count": 43,
   "id": "30851743",
   "metadata": {},
   "outputs": [
    {
     "data": {
      "text/html": [
       "<div>\n",
       "<style scoped>\n",
       "    .dataframe tbody tr th:only-of-type {\n",
       "        vertical-align: middle;\n",
       "    }\n",
       "\n",
       "    .dataframe tbody tr th {\n",
       "        vertical-align: top;\n",
       "    }\n",
       "\n",
       "    .dataframe thead th {\n",
       "        text-align: right;\n",
       "    }\n",
       "</style>\n",
       "<table border=\"1\" class=\"dataframe\">\n",
       "  <thead>\n",
       "    <tr style=\"text-align: right;\">\n",
       "      <th></th>\n",
       "      <th>actual</th>\n",
       "      <th>model1</th>\n",
       "      <th>model2</th>\n",
       "      <th>model3</th>\n",
       "      <th>model4</th>\n",
       "    </tr>\n",
       "  </thead>\n",
       "  <tbody>\n",
       "    <tr>\n",
       "      <th>0</th>\n",
       "      <td>cat</td>\n",
       "      <td>cat</td>\n",
       "      <td>dog</td>\n",
       "      <td>cat</td>\n",
       "      <td>dog</td>\n",
       "    </tr>\n",
       "    <tr>\n",
       "      <th>1</th>\n",
       "      <td>dog</td>\n",
       "      <td>dog</td>\n",
       "      <td>cat</td>\n",
       "      <td>cat</td>\n",
       "      <td>dog</td>\n",
       "    </tr>\n",
       "    <tr>\n",
       "      <th>2</th>\n",
       "      <td>dog</td>\n",
       "      <td>cat</td>\n",
       "      <td>cat</td>\n",
       "      <td>cat</td>\n",
       "      <td>dog</td>\n",
       "    </tr>\n",
       "    <tr>\n",
       "      <th>3</th>\n",
       "      <td>dog</td>\n",
       "      <td>dog</td>\n",
       "      <td>dog</td>\n",
       "      <td>cat</td>\n",
       "      <td>dog</td>\n",
       "    </tr>\n",
       "    <tr>\n",
       "      <th>4</th>\n",
       "      <td>cat</td>\n",
       "      <td>cat</td>\n",
       "      <td>cat</td>\n",
       "      <td>dog</td>\n",
       "      <td>dog</td>\n",
       "    </tr>\n",
       "    <tr>\n",
       "      <th>...</th>\n",
       "      <td>...</td>\n",
       "      <td>...</td>\n",
       "      <td>...</td>\n",
       "      <td>...</td>\n",
       "      <td>...</td>\n",
       "    </tr>\n",
       "    <tr>\n",
       "      <th>4995</th>\n",
       "      <td>dog</td>\n",
       "      <td>dog</td>\n",
       "      <td>dog</td>\n",
       "      <td>dog</td>\n",
       "      <td>dog</td>\n",
       "    </tr>\n",
       "    <tr>\n",
       "      <th>4996</th>\n",
       "      <td>dog</td>\n",
       "      <td>dog</td>\n",
       "      <td>cat</td>\n",
       "      <td>cat</td>\n",
       "      <td>dog</td>\n",
       "    </tr>\n",
       "    <tr>\n",
       "      <th>4997</th>\n",
       "      <td>dog</td>\n",
       "      <td>cat</td>\n",
       "      <td>cat</td>\n",
       "      <td>dog</td>\n",
       "      <td>dog</td>\n",
       "    </tr>\n",
       "    <tr>\n",
       "      <th>4998</th>\n",
       "      <td>cat</td>\n",
       "      <td>cat</td>\n",
       "      <td>cat</td>\n",
       "      <td>cat</td>\n",
       "      <td>dog</td>\n",
       "    </tr>\n",
       "    <tr>\n",
       "      <th>4999</th>\n",
       "      <td>dog</td>\n",
       "      <td>dog</td>\n",
       "      <td>dog</td>\n",
       "      <td>dog</td>\n",
       "      <td>dog</td>\n",
       "    </tr>\n",
       "  </tbody>\n",
       "</table>\n",
       "<p>5000 rows × 5 columns</p>\n",
       "</div>"
      ],
      "text/plain": [
       "     actual model1 model2 model3 model4\n",
       "0       cat    cat    dog    cat    dog\n",
       "1       dog    dog    cat    cat    dog\n",
       "2       dog    cat    cat    cat    dog\n",
       "3       dog    dog    dog    cat    dog\n",
       "4       cat    cat    cat    dog    dog\n",
       "...     ...    ...    ...    ...    ...\n",
       "4995    dog    dog    dog    dog    dog\n",
       "4996    dog    dog    cat    cat    dog\n",
       "4997    dog    cat    cat    dog    dog\n",
       "4998    cat    cat    cat    cat    dog\n",
       "4999    dog    dog    dog    dog    dog\n",
       "\n",
       "[5000 rows x 5 columns]"
      ]
     },
     "execution_count": 43,
     "metadata": {},
     "output_type": "execute_result"
    }
   ],
   "source": [
    "#create a baseline model around most common class."
   ]
  },
  {
   "cell_type": "code",
   "execution_count": 45,
   "id": "b03db002",
   "metadata": {},
   "outputs": [],
   "source": [
    "df['Baseline'] = df.actual.value_counts().idxmax()"
   ]
  },
  {
   "cell_type": "code",
   "execution_count": 51,
   "id": "a5334ce8",
   "metadata": {},
   "outputs": [
    {
     "data": {
      "text/html": [
       "<div>\n",
       "<style scoped>\n",
       "    .dataframe tbody tr th:only-of-type {\n",
       "        vertical-align: middle;\n",
       "    }\n",
       "\n",
       "    .dataframe tbody tr th {\n",
       "        vertical-align: top;\n",
       "    }\n",
       "\n",
       "    .dataframe thead th {\n",
       "        text-align: right;\n",
       "    }\n",
       "</style>\n",
       "<table border=\"1\" class=\"dataframe\">\n",
       "  <thead>\n",
       "    <tr style=\"text-align: right;\">\n",
       "      <th></th>\n",
       "      <th>actual</th>\n",
       "      <th>model1</th>\n",
       "      <th>model2</th>\n",
       "      <th>model3</th>\n",
       "      <th>model4</th>\n",
       "      <th>Baseline</th>\n",
       "    </tr>\n",
       "  </thead>\n",
       "  <tbody>\n",
       "    <tr>\n",
       "      <th>0</th>\n",
       "      <td>cat</td>\n",
       "      <td>cat</td>\n",
       "      <td>dog</td>\n",
       "      <td>cat</td>\n",
       "      <td>dog</td>\n",
       "      <td>dog</td>\n",
       "    </tr>\n",
       "    <tr>\n",
       "      <th>1</th>\n",
       "      <td>dog</td>\n",
       "      <td>dog</td>\n",
       "      <td>cat</td>\n",
       "      <td>cat</td>\n",
       "      <td>dog</td>\n",
       "      <td>dog</td>\n",
       "    </tr>\n",
       "    <tr>\n",
       "      <th>2</th>\n",
       "      <td>dog</td>\n",
       "      <td>cat</td>\n",
       "      <td>cat</td>\n",
       "      <td>cat</td>\n",
       "      <td>dog</td>\n",
       "      <td>dog</td>\n",
       "    </tr>\n",
       "    <tr>\n",
       "      <th>3</th>\n",
       "      <td>dog</td>\n",
       "      <td>dog</td>\n",
       "      <td>dog</td>\n",
       "      <td>cat</td>\n",
       "      <td>dog</td>\n",
       "      <td>dog</td>\n",
       "    </tr>\n",
       "    <tr>\n",
       "      <th>4</th>\n",
       "      <td>cat</td>\n",
       "      <td>cat</td>\n",
       "      <td>cat</td>\n",
       "      <td>dog</td>\n",
       "      <td>dog</td>\n",
       "      <td>dog</td>\n",
       "    </tr>\n",
       "    <tr>\n",
       "      <th>...</th>\n",
       "      <td>...</td>\n",
       "      <td>...</td>\n",
       "      <td>...</td>\n",
       "      <td>...</td>\n",
       "      <td>...</td>\n",
       "      <td>...</td>\n",
       "    </tr>\n",
       "    <tr>\n",
       "      <th>4995</th>\n",
       "      <td>dog</td>\n",
       "      <td>dog</td>\n",
       "      <td>dog</td>\n",
       "      <td>dog</td>\n",
       "      <td>dog</td>\n",
       "      <td>dog</td>\n",
       "    </tr>\n",
       "    <tr>\n",
       "      <th>4996</th>\n",
       "      <td>dog</td>\n",
       "      <td>dog</td>\n",
       "      <td>cat</td>\n",
       "      <td>cat</td>\n",
       "      <td>dog</td>\n",
       "      <td>dog</td>\n",
       "    </tr>\n",
       "    <tr>\n",
       "      <th>4997</th>\n",
       "      <td>dog</td>\n",
       "      <td>cat</td>\n",
       "      <td>cat</td>\n",
       "      <td>dog</td>\n",
       "      <td>dog</td>\n",
       "      <td>dog</td>\n",
       "    </tr>\n",
       "    <tr>\n",
       "      <th>4998</th>\n",
       "      <td>cat</td>\n",
       "      <td>cat</td>\n",
       "      <td>cat</td>\n",
       "      <td>cat</td>\n",
       "      <td>dog</td>\n",
       "      <td>dog</td>\n",
       "    </tr>\n",
       "    <tr>\n",
       "      <th>4999</th>\n",
       "      <td>dog</td>\n",
       "      <td>dog</td>\n",
       "      <td>dog</td>\n",
       "      <td>dog</td>\n",
       "      <td>dog</td>\n",
       "      <td>dog</td>\n",
       "    </tr>\n",
       "  </tbody>\n",
       "</table>\n",
       "<p>5000 rows × 6 columns</p>\n",
       "</div>"
      ],
      "text/plain": [
       "     actual model1 model2 model3 model4 Baseline\n",
       "0       cat    cat    dog    cat    dog      dog\n",
       "1       dog    dog    cat    cat    dog      dog\n",
       "2       dog    cat    cat    cat    dog      dog\n",
       "3       dog    dog    dog    cat    dog      dog\n",
       "4       cat    cat    cat    dog    dog      dog\n",
       "...     ...    ...    ...    ...    ...      ...\n",
       "4995    dog    dog    dog    dog    dog      dog\n",
       "4996    dog    dog    cat    cat    dog      dog\n",
       "4997    dog    cat    cat    dog    dog      dog\n",
       "4998    cat    cat    cat    cat    dog      dog\n",
       "4999    dog    dog    dog    dog    dog      dog\n",
       "\n",
       "[5000 rows x 6 columns]"
      ]
     },
     "execution_count": 51,
     "metadata": {},
     "output_type": "execute_result"
    }
   ],
   "source": [
    "df"
   ]
  },
  {
   "cell_type": "code",
   "execution_count": 48,
   "id": "008731d1",
   "metadata": {},
   "outputs": [
    {
     "data": {
      "text/plain": [
       "0.6508"
      ]
     },
     "execution_count": 48,
     "metadata": {},
     "output_type": "execute_result"
    }
   ],
   "source": [
    "#compare accuracy of models to baseline\n",
    "(df.actual == df.Baseline).mean()"
   ]
  },
  {
   "cell_type": "code",
   "execution_count": 54,
   "id": "cab11345",
   "metadata": {},
   "outputs": [
    {
     "data": {
      "text/plain": [
       "[['model1', 0.8074],\n",
       " ['model2', 0.6304],\n",
       " ['model3', 0.5096],\n",
       " ['model4', 0.7426],\n",
       " ['Baseline', 0.6508]]"
      ]
     },
     "execution_count": 54,
     "metadata": {},
     "output_type": "execute_result"
    }
   ],
   "source": [
    "#all models accuracy\n",
    "model_acc = []\n",
    "for model in df.columns[1:]:\n",
    "    acc = (df.actual == df[model]).mean()\n",
    "    model_acc.append([model,acc])\n",
    "\n",
    "model_acc"
   ]
  },
  {
   "cell_type": "code",
   "execution_count": 55,
   "id": "7616d60a",
   "metadata": {},
   "outputs": [],
   "source": [
    "# model 1 and 3 are more accurate than the baseline\n"
   ]
  },
  {
   "cell_type": "code",
   "execution_count": 57,
   "id": "d265c521",
   "metadata": {},
   "outputs": [],
   "source": [
    "#Suppose you are working on a team that solely deals with dog pictures. Which of these models would you recomend?\n"
   ]
  },
  {
   "cell_type": "code",
   "execution_count": 58,
   "id": "e2f5b897",
   "metadata": {},
   "outputs": [],
   "source": [
    "#dog = positive class\n",
    "#cat = negative class\n"
   ]
  },
  {
   "cell_type": "code",
   "execution_count": 60,
   "id": "bc3bc819",
   "metadata": {},
   "outputs": [
    {
     "data": {
      "text/plain": [
       "[['model1', 0.8900238338440586],\n",
       " ['model2', 0.8931767337807607],\n",
       " ['model3', 0.6598883572567783],\n",
       " ['model4', 0.7312485304490948],\n",
       " ['Baseline', 0.6508]]"
      ]
     },
     "execution_count": 60,
     "metadata": {},
     "output_type": "execute_result"
    }
   ],
   "source": [
    "model_pre = []\n",
    "for model in df.columns[1:]:\n",
    "    subset = df[df[model] == 'dog']\n",
    "    precision = (subset.actual == subset[model]).mean()\n",
    "    model_pre.append([model,precision])\n",
    "model_pre"
   ]
  },
  {
   "cell_type": "code",
   "execution_count": 61,
   "id": "0da1e9c9",
   "metadata": {},
   "outputs": [],
   "source": [
    "#all models are more precise than the baseline.\n"
   ]
  },
  {
   "cell_type": "code",
   "execution_count": 62,
   "id": "eaf4245c",
   "metadata": {},
   "outputs": [],
   "source": [
    "#Suppose you are working on a team that solely deals with cat pictures. Which of these models would you recomend?\n"
   ]
  },
  {
   "cell_type": "code",
   "execution_count": 63,
   "id": "21110dec",
   "metadata": {},
   "outputs": [],
   "source": [
    "#cat = positive class\n",
    "#dog = negative class"
   ]
  },
  {
   "cell_type": "code",
   "execution_count": 68,
   "id": "e25ee509",
   "metadata": {},
   "outputs": [
    {
     "data": {
      "text/plain": [
       "[['model1', 0.6897721764420747],\n",
       " ['model2', 0.4841220423412204],\n",
       " ['model3', 0.358346709470305],\n",
       " ['model4', 0.8072289156626506],\n",
       " ['Baseline', nan]]"
      ]
     },
     "execution_count": 68,
     "metadata": {},
     "output_type": "execute_result"
    }
   ],
   "source": [
    "model_pre = []\n",
    "for model in df.columns[1:]:\n",
    "    subset = df[df[model] == 'cat']\n",
    "    precision = (subset.actual == subset[model]).mean()\n",
    "    model_pre.append([model, precision])\n",
    "model_pre"
   ]
  },
  {
   "cell_type": "code",
   "execution_count": null,
   "id": "b9ab151b",
   "metadata": {},
   "outputs": [],
   "source": []
  }
 ],
 "metadata": {
  "kernelspec": {
   "display_name": "Python 3 (ipykernel)",
   "language": "python",
   "name": "python3"
  },
  "language_info": {
   "codemirror_mode": {
    "name": "ipython",
    "version": 3
   },
   "file_extension": ".py",
   "mimetype": "text/x-python",
   "name": "python",
   "nbconvert_exporter": "python",
   "pygments_lexer": "ipython3",
   "version": "3.9.12"
  }
 },
 "nbformat": 4,
 "nbformat_minor": 5
}
